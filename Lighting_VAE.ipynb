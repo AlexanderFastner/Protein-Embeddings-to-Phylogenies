{
 "cells": [
  {
   "cell_type": "code",
   "execution_count": 1,
   "id": "bf52905a",
   "metadata": {},
   "outputs": [],
   "source": [
    "#imports\n",
    "import pytorch_lightning as pl\n",
    "import h5py\n",
    "import os\n",
    "import pandas as pd\n",
    "import numpy as np\n",
    "from torch import nn\n",
    "from torch.nn import functional as F\n",
    "from sklearn.model_selection import train_test_split\n",
    "from torch.utils.data import DataLoader\n",
    "import library as lib"
   ]
  },
  {
   "cell_type": "markdown",
   "id": "611e3633",
   "metadata": {},
   "source": [
    "# Set seed"
   ]
  },
  {
   "cell_type": "code",
   "execution_count": 2,
   "id": "61448ee8",
   "metadata": {},
   "outputs": [
    {
     "name": "stderr",
     "output_type": "stream",
     "text": [
      "Global seed set to 42\n"
     ]
    },
    {
     "data": {
      "text/plain": [
       "42"
      ]
     },
     "execution_count": 2,
     "metadata": {},
     "output_type": "execute_result"
    }
   ],
   "source": [
    "pl.seed_everything(42, workers=True)"
   ]
  },
  {
   "cell_type": "markdown",
   "id": "8ccf1e5e",
   "metadata": {},
   "source": [
    "# Load, Format, Split into train/validation/test datasets"
   ]
  },
  {
   "cell_type": "code",
   "execution_count": 3,
   "id": "ecfe7b38",
   "metadata": {},
   "outputs": [
    {
     "name": "stdout",
     "output_type": "stream",
     "text": [
      "total: (437,)\n",
      "training+validation: (393,)\n",
      "test: (44,)\n",
      "training: (314,)\n",
      "validation: (79,)\n",
      "314 314\n",
      "79 79\n"
     ]
    }
   ],
   "source": [
    "#make numpy file with (seq header, embedding)\n",
    "esm2 = h5py.File(\"./KLK_esm2.h5\", 'r')\n",
    "list(esm2.keys())\n",
    "# List all groups\n",
    "keys = list(esm2.keys())\n",
    "#print(keys) \n",
    "# Get the data\n",
    "embedding = []\n",
    "headers = []\n",
    "for key in keys:\n",
    "    #data\n",
    "    emb = esm2[key][:]\n",
    "    #print(emb)\n",
    "    #value = np.array(esm2[key][:])\n",
    "    #print(value)\n",
    "    embedding.append(emb)\n",
    "    #headers\n",
    "    key = key.replace(\"isoform=\", \"isoform_\").replace(\"=\", \"\").replace(\":\", \"_\")\n",
    "    headers.append(key)\n",
    "\n",
    "headers = np.array(headers)\n",
    "embedding = np.array(embedding)\n",
    "\n",
    "#split train test\n",
    "headers_first, headers_test, embedding_first, embedding_test = train_test_split(headers, embedding, test_size=0.1, random_state=42)\n",
    "#split train validation\n",
    "headers_train, headers_validate, embedding_train, embedding_validate = train_test_split(headers_first, embedding_first, test_size =0.2, random_state=42)\n",
    "print(\"total:\", headers.shape)\n",
    "print(\"training+validation:\", headers_first.shape)\n",
    "print(\"test:\", headers_test.shape)\n",
    "print(\"training:\", headers_train.shape)\n",
    "print(\"validation:\", headers_validate.shape)\n",
    "print(len(headers_train), len(embedding_train))\n",
    "print(len(headers_validate), len(embedding_validate))\n",
    "\n",
    "#training_df = pd.DataFrame({'header': headers_train, 'embedding' : embedding_train})\n",
    "#validate_df = pd.DataFrame({'header': headers_validate, 'embedding' : embedding_validate})"
   ]
  },
  {
   "cell_type": "markdown",
   "id": "36166e3c",
   "metadata": {},
   "source": [
    "# Dataloaders"
   ]
  },
  {
   "cell_type": "code",
   "execution_count": 4,
   "id": "25f2973c",
   "metadata": {},
   "outputs": [],
   "source": [
    "#dataloaders\n",
    "train_dataset = lib.makedataset(headers_train, embedding_train)\n",
    "val_dataset = lib.makedataset(headers_validate, embedding_validate)\n",
    "\n",
    "train_dataloader = DataLoader(train_dataset, batch_size=8, shuffle=True, num_workers=1, drop_last=True)\n",
    "val_dataloader = DataLoader(val_dataset, batch_size=8, shuffle=False, num_workers=1, drop_last=True)\n",
    "\n",
    "#for i in train_dataloader:\n",
    "    #print(i[0][0])\n",
    "    #print(i[1][0])\n",
    "    "
   ]
  },
  {
   "cell_type": "markdown",
   "id": "d992163e",
   "metadata": {},
   "source": [
    "# Training parameters"
   ]
  },
  {
   "cell_type": "code",
   "execution_count": 5,
   "id": "ddca7cfa",
   "metadata": {},
   "outputs": [
    {
     "name": "stderr",
     "output_type": "stream",
     "text": [
      "GPU available: True (cuda), used: True\n",
      "TPU available: False, using: 0 TPU cores\n",
      "IPU available: False, using: 0 IPUs\n",
      "HPU available: False, using: 0 HPUs\n",
      "C:\\Users\\alex\\anaconda3\\envs\\FP_Lightning\\lib\\site-packages\\pytorch_lightning\\trainer\\connectors\\logger_connector\\logger_connector.py:67: UserWarning: Starting from v1.9.0, `tensorboardX` has been removed as a dependency of the `pytorch_lightning` package, due to potential conflicts with other packages in the ML ecosystem. For this reason, `logger=True` will use `CSVLogger` as the default logger, unless the `tensorboard` or `tensorboardX` packages are found. Please `pip install lightning[extra]` or one of them to enable TensorBoard support by default\n",
      "  warning_cache.warn(\n",
      "LOCAL_RANK: 0 - CUDA_VISIBLE_DEVICES: [0]\n",
      "\n",
      "  | Name    | Type       | Params\n",
      "---------------------------------------\n",
      "0 | encoder | Sequential | 3.7 M \n",
      "1 | latent  | Sequential | 26.1 K\n",
      "2 | fc21    | Linear     | 25.8 K\n",
      "3 | fc22    | Linear     | 25.8 K\n",
      "4 | fc3     | Sequential | 26.1 K\n",
      "5 | fc4     | Sequential | 26.1 K\n",
      "6 | relu    | ReLU       | 0     \n",
      "7 | decoder | Sequential | 3.8 M \n",
      "---------------------------------------\n",
      "7.6 M     Trainable params\n",
      "0         Non-trainable params\n",
      "7.6 M     Total params\n",
      "30.491    Total estimated model params size (MB)\n"
     ]
    },
    {
     "data": {
      "application/vnd.jupyter.widget-view+json": {
       "model_id": "cfa3791d2b624c19a904ccaefe6a64da",
       "version_major": 2,
       "version_minor": 0
      },
      "text/plain": [
       "Sanity Checking: 0it [00:00, ?it/s]"
      ]
     },
     "metadata": {},
     "output_type": "display_data"
    },
    {
     "name": "stderr",
     "output_type": "stream",
     "text": [
      "C:\\Users\\alex\\anaconda3\\envs\\FP_Lightning\\lib\\site-packages\\pytorch_lightning\\trainer\\connectors\\data_connector.py:430: PossibleUserWarning: The dataloader, val_dataloader, does not have many workers which may be a bottleneck. Consider increasing the value of the `num_workers` argument` (try 16 which is the number of cpus on this machine) in the `DataLoader` init to improve performance.\n",
      "  rank_zero_warn(\n"
     ]
    },
    {
     "name": "stdout",
     "output_type": "stream",
     "text": [
      "tensor([[-8.5181e-02, -1.6222e-03, -6.6730e-03,  ..., -3.8031e-02,\n",
      "         -2.0113e-01, -2.7280e-02],\n",
      "        [-2.8856e-02, -2.4776e-02, -6.5874e-02,  ..., -5.3546e-05,\n",
      "         -1.3909e-01, -4.8657e-02],\n",
      "        [-1.8246e-02,  9.5635e-03,  1.1470e-02,  ..., -1.2474e-03,\n",
      "         -1.2617e-01,  1.1466e-02],\n",
      "        ...,\n",
      "        [-4.2723e-02,  6.8552e-03,  1.6257e-02,  ..., -1.4596e-02,\n",
      "         -1.6469e-01, -1.8185e-02],\n",
      "        [-4.1624e-02, -8.9031e-03, -4.2955e-02,  ..., -2.2822e-02,\n",
      "         -1.5990e-01, -1.8496e-03],\n",
      "        [-2.1711e-02, -2.7434e-03, -4.2189e-02,  ..., -4.5097e-02,\n",
      "         -1.5113e-01, -4.1616e-02]], device='cuda:0')\n",
      "tensor([[0.0762, 0.0031, 0.0000,  ..., 0.0402, 0.0321, 0.0204],\n",
      "        [0.0756, 0.0003, 0.0000,  ..., 0.0421, 0.0285, 0.0230],\n",
      "        [0.0790, 0.0057, 0.0000,  ..., 0.0478, 0.0344, 0.0221],\n",
      "        ...,\n",
      "        [0.0742, 0.0061, 0.0000,  ..., 0.0394, 0.0229, 0.0231],\n",
      "        [0.0751, 0.0036, 0.0000,  ..., 0.0420, 0.0297, 0.0207],\n",
      "        [0.0772, 0.0010, 0.0000,  ..., 0.0406, 0.0302, 0.0231]],\n",
      "       device='cuda:0')\n",
      "self(x):  (tensor([[-0.0087,  0.0078, -0.0044,  ..., -0.0288, -0.0613,  0.0317],\n",
      "        [ 0.0008,  0.0080, -0.0165,  ..., -0.0252, -0.0542,  0.0078],\n",
      "        [-0.0097,  0.0089, -0.0054,  ..., -0.0071, -0.0400,  0.0040],\n",
      "        ...,\n",
      "        [-0.0147,  0.0180, -0.0024,  ..., -0.0130, -0.0557,  0.0254],\n",
      "        [-0.0056,  0.0183, -0.0010,  ..., -0.0129, -0.0581,  0.0189],\n",
      "        [ 0.0003,  0.0283, -0.0035,  ..., -0.0121, -0.0694,  0.0322]],\n",
      "       device='cuda:0'), tensor([[ 0.0496,  0.0367,  0.0637,  ..., -0.0538,  0.0002, -0.0249],\n",
      "        [ 0.0488,  0.0371,  0.0638,  ..., -0.0549,  0.0002, -0.0247],\n",
      "        [ 0.0496,  0.0367,  0.0638,  ..., -0.0538, -0.0002, -0.0255],\n",
      "        ...,\n",
      "        [ 0.0490,  0.0366,  0.0634,  ..., -0.0542,  0.0002, -0.0254],\n",
      "        [ 0.0493,  0.0365,  0.0634,  ..., -0.0540,  0.0003, -0.0256],\n",
      "        [ 0.0487,  0.0367,  0.0636,  ..., -0.0541, -0.0001, -0.0254]],\n",
      "       device='cuda:0'), tensor([[-0.0423, -0.0699, -0.1005,  ..., -0.0234,  0.0014,  0.0296],\n",
      "        [-0.0434, -0.0700, -0.0991,  ..., -0.0233,  0.0012,  0.0299],\n",
      "        [-0.0424, -0.0704, -0.1007,  ..., -0.0233,  0.0008,  0.0301],\n",
      "        ...,\n",
      "        [-0.0429, -0.0697, -0.1007,  ..., -0.0233,  0.0011,  0.0302],\n",
      "        [-0.0426, -0.0699, -0.1005,  ..., -0.0234,  0.0012,  0.0299],\n",
      "        [-0.0427, -0.0700, -0.0999,  ..., -0.0236,  0.0014,  0.0292]],\n",
      "       device='cuda:0'))\n",
      "tensor([[-8.5181e-02, -1.6222e-03, -6.6730e-03,  ..., -3.8031e-02,\n",
      "         -2.0113e-01, -2.7280e-02],\n",
      "        [-2.8856e-02, -2.4776e-02, -6.5874e-02,  ..., -5.3546e-05,\n",
      "         -1.3909e-01, -4.8657e-02],\n",
      "        [-1.8246e-02,  9.5635e-03,  1.1470e-02,  ..., -1.2474e-03,\n",
      "         -1.2617e-01,  1.1466e-02],\n",
      "        ...,\n",
      "        [-4.2723e-02,  6.8552e-03,  1.6257e-02,  ..., -1.4596e-02,\n",
      "         -1.6469e-01, -1.8185e-02],\n",
      "        [-4.1624e-02, -8.9031e-03, -4.2955e-02,  ..., -2.2822e-02,\n",
      "         -1.5990e-01, -1.8496e-03],\n",
      "        [-2.1711e-02, -2.7434e-03, -4.2189e-02,  ..., -4.5097e-02,\n",
      "         -1.5113e-01, -4.1616e-02]], device='cuda:0')\n",
      "tensor([[0.0762, 0.0031, 0.0000,  ..., 0.0402, 0.0321, 0.0204],\n",
      "        [0.0756, 0.0003, 0.0000,  ..., 0.0421, 0.0285, 0.0230],\n",
      "        [0.0790, 0.0057, 0.0000,  ..., 0.0478, 0.0344, 0.0221],\n",
      "        ...,\n",
      "        [0.0742, 0.0061, 0.0000,  ..., 0.0394, 0.0229, 0.0231],\n",
      "        [0.0751, 0.0036, 0.0000,  ..., 0.0420, 0.0297, 0.0207],\n",
      "        [0.0772, 0.0010, 0.0000,  ..., 0.0406, 0.0302, 0.0231]],\n",
      "       device='cuda:0')\n",
      "len(self(x)):  3\n",
      "tensor([[-8.5181e-02, -1.6222e-03, -6.6730e-03,  ..., -3.8031e-02,\n",
      "         -2.0113e-01, -2.7280e-02],\n",
      "        [-2.8856e-02, -2.4776e-02, -6.5874e-02,  ..., -5.3546e-05,\n",
      "         -1.3909e-01, -4.8657e-02],\n",
      "        [-1.8246e-02,  9.5635e-03,  1.1470e-02,  ..., -1.2474e-03,\n",
      "         -1.2617e-01,  1.1466e-02],\n",
      "        ...,\n",
      "        [-4.2723e-02,  6.8552e-03,  1.6257e-02,  ..., -1.4596e-02,\n",
      "         -1.6469e-01, -1.8185e-02],\n",
      "        [-4.1624e-02, -8.9031e-03, -4.2955e-02,  ..., -2.2822e-02,\n",
      "         -1.5990e-01, -1.8496e-03],\n",
      "        [-2.1711e-02, -2.7434e-03, -4.2189e-02,  ..., -4.5097e-02,\n",
      "         -1.5113e-01, -4.1616e-02]], device='cuda:0')\n",
      "tensor([[0.0762, 0.0031, 0.0000,  ..., 0.0402, 0.0321, 0.0204],\n",
      "        [0.0756, 0.0003, 0.0000,  ..., 0.0421, 0.0285, 0.0230],\n",
      "        [0.0790, 0.0057, 0.0000,  ..., 0.0478, 0.0344, 0.0221],\n",
      "        ...,\n",
      "        [0.0742, 0.0061, 0.0000,  ..., 0.0394, 0.0229, 0.0231],\n",
      "        [0.0751, 0.0036, 0.0000,  ..., 0.0420, 0.0297, 0.0207],\n",
      "        [0.0772, 0.0010, 0.0000,  ..., 0.0406, 0.0302, 0.0231]],\n",
      "       device='cuda:0')\n",
      "tensor([[-0.0015,  0.0052,  0.0016,  ..., -0.0101, -0.0498,  0.0057],\n",
      "        [ 0.0119,  0.0231, -0.0026,  ..., -0.0139, -0.0592,  0.0180],\n",
      "        [ 0.0040,  0.0351, -0.0118,  ..., -0.0383, -0.0411,  0.0271],\n",
      "        ...,\n",
      "        [-0.0001,  0.0341, -0.0103,  ..., -0.0126, -0.0555,  0.0305],\n",
      "        [ 0.0172,  0.0188, -0.0198,  ..., -0.0144, -0.0638,  0.0227],\n",
      "        [ 0.0020,  0.0034, -0.0019,  ..., -0.0188, -0.0582,  0.0219]],\n",
      "       device='cuda:0')\n",
      "tensor([[-8.5181e-02, -1.6222e-03, -6.6730e-03,  ..., -3.8031e-02,\n",
      "         -2.0113e-01, -2.7280e-02],\n",
      "        [-2.8856e-02, -2.4776e-02, -6.5874e-02,  ..., -5.3546e-05,\n",
      "         -1.3909e-01, -4.8657e-02],\n",
      "        [-1.8246e-02,  9.5635e-03,  1.1470e-02,  ..., -1.2474e-03,\n",
      "         -1.2617e-01,  1.1466e-02],\n",
      "        ...,\n",
      "        [-4.2723e-02,  6.8552e-03,  1.6257e-02,  ..., -1.4596e-02,\n",
      "         -1.6469e-01, -1.8185e-02],\n",
      "        [-4.1624e-02, -8.9031e-03, -4.2955e-02,  ..., -2.2822e-02,\n",
      "         -1.5990e-01, -1.8496e-03],\n",
      "        [-2.1711e-02, -2.7434e-03, -4.2189e-02,  ..., -4.5097e-02,\n",
      "         -1.5113e-01, -4.1616e-02]], device='cuda:0')\n",
      "tensor([[0.0762, 0.0031, 0.0000,  ..., 0.0402, 0.0321, 0.0204],\n",
      "        [0.0756, 0.0003, 0.0000,  ..., 0.0421, 0.0285, 0.0230],\n",
      "        [0.0790, 0.0057, 0.0000,  ..., 0.0478, 0.0344, 0.0221],\n",
      "        ...,\n",
      "        [0.0742, 0.0061, 0.0000,  ..., 0.0394, 0.0229, 0.0231],\n",
      "        [0.0751, 0.0036, 0.0000,  ..., 0.0420, 0.0297, 0.0207],\n",
      "        [0.0772, 0.0010, 0.0000,  ..., 0.0406, 0.0302, 0.0231]],\n",
      "       device='cuda:0')\n",
      "tensor([[ 0.0496,  0.0367,  0.0637,  ..., -0.0538,  0.0002, -0.0249],\n",
      "        [ 0.0488,  0.0371,  0.0638,  ..., -0.0549,  0.0002, -0.0247],\n",
      "        [ 0.0496,  0.0367,  0.0638,  ..., -0.0538, -0.0002, -0.0255],\n",
      "        ...,\n",
      "        [ 0.0490,  0.0366,  0.0634,  ..., -0.0542,  0.0002, -0.0254],\n",
      "        [ 0.0493,  0.0365,  0.0634,  ..., -0.0540,  0.0003, -0.0256],\n",
      "        [ 0.0487,  0.0367,  0.0636,  ..., -0.0541, -0.0001, -0.0254]],\n",
      "       device='cuda:0')\n",
      "tensor([[-8.5181e-02, -1.6222e-03, -6.6730e-03,  ..., -3.8031e-02,\n",
      "         -2.0113e-01, -2.7280e-02],\n",
      "        [-2.8856e-02, -2.4776e-02, -6.5874e-02,  ..., -5.3546e-05,\n",
      "         -1.3909e-01, -4.8657e-02],\n",
      "        [-1.8246e-02,  9.5635e-03,  1.1470e-02,  ..., -1.2474e-03,\n",
      "         -1.2617e-01,  1.1466e-02],\n",
      "        ...,\n",
      "        [-4.2723e-02,  6.8552e-03,  1.6257e-02,  ..., -1.4596e-02,\n",
      "         -1.6469e-01, -1.8185e-02],\n",
      "        [-4.1624e-02, -8.9031e-03, -4.2955e-02,  ..., -2.2822e-02,\n",
      "         -1.5990e-01, -1.8496e-03],\n",
      "        [-2.1711e-02, -2.7434e-03, -4.2189e-02,  ..., -4.5097e-02,\n",
      "         -1.5113e-01, -4.1616e-02]], device='cuda:0')\n",
      "tensor([[0.0762, 0.0031, 0.0000,  ..., 0.0402, 0.0321, 0.0204],\n",
      "        [0.0756, 0.0003, 0.0000,  ..., 0.0421, 0.0285, 0.0230],\n",
      "        [0.0790, 0.0057, 0.0000,  ..., 0.0478, 0.0344, 0.0221],\n",
      "        ...,\n",
      "        [0.0742, 0.0061, 0.0000,  ..., 0.0394, 0.0229, 0.0231],\n",
      "        [0.0751, 0.0036, 0.0000,  ..., 0.0420, 0.0297, 0.0207],\n",
      "        [0.0772, 0.0010, 0.0000,  ..., 0.0406, 0.0302, 0.0231]],\n",
      "       device='cuda:0')\n",
      "tensor([[-0.0423, -0.0699, -0.1005,  ..., -0.0234,  0.0014,  0.0296],\n",
      "        [-0.0434, -0.0700, -0.0991,  ..., -0.0233,  0.0012,  0.0299],\n",
      "        [-0.0424, -0.0704, -0.1007,  ..., -0.0233,  0.0008,  0.0301],\n",
      "        ...,\n",
      "        [-0.0429, -0.0697, -0.1007,  ..., -0.0233,  0.0011,  0.0302],\n",
      "        [-0.0426, -0.0699, -0.1005,  ..., -0.0234,  0.0012,  0.0299],\n",
      "        [-0.0427, -0.0700, -0.0999,  ..., -0.0236,  0.0014,  0.0292]],\n",
      "       device='cuda:0')\n",
      "y:  ('Euma4', 'Calu_KLK1a', 'Euma6', 'Pelodiscus_sinensis_GeneID102446142', 'EreuK1b', 'Rhincodon_typus_GeneID109924126_isoform_X1', 'Alligator_sinensis_GeneID102385741', 'Pesi_B_07')\n",
      "tensor([[-8.5181e-02, -1.6222e-03, -6.6730e-03,  ..., -3.8031e-02,\n",
      "         -2.0113e-01, -2.7280e-02],\n",
      "        [-2.8856e-02, -2.4776e-02, -6.5874e-02,  ..., -5.3546e-05,\n",
      "         -1.3909e-01, -4.8657e-02],\n",
      "        [-1.8246e-02,  9.5635e-03,  1.1470e-02,  ..., -1.2474e-03,\n",
      "         -1.2617e-01,  1.1466e-02],\n",
      "        ...,\n",
      "        [-4.2723e-02,  6.8552e-03,  1.6257e-02,  ..., -1.4596e-02,\n",
      "         -1.6469e-01, -1.8185e-02],\n",
      "        [-4.1624e-02, -8.9031e-03, -4.2955e-02,  ..., -2.2822e-02,\n",
      "         -1.5990e-01, -1.8496e-03],\n",
      "        [-2.1711e-02, -2.7434e-03, -4.2189e-02,  ..., -4.5097e-02,\n",
      "         -1.5113e-01, -4.1616e-02]], device='cuda:0')\n",
      "tensor([[0.0762, 0.0031, 0.0000,  ..., 0.0402, 0.0321, 0.0204],\n",
      "        [0.0756, 0.0003, 0.0000,  ..., 0.0421, 0.0285, 0.0230],\n",
      "        [0.0790, 0.0057, 0.0000,  ..., 0.0478, 0.0344, 0.0221],\n",
      "        ...,\n",
      "        [0.0742, 0.0061, 0.0000,  ..., 0.0394, 0.0229, 0.0231],\n",
      "        [0.0751, 0.0036, 0.0000,  ..., 0.0420, 0.0297, 0.0207],\n",
      "        [0.0772, 0.0010, 0.0000,  ..., 0.0406, 0.0302, 0.0231]],\n",
      "       device='cuda:0')\n"
     ]
    },
    {
     "ename": "TypeError",
     "evalue": "cross_entropy_loss(): argument 'input' (position 1) must be Tensor, not tuple",
     "output_type": "error",
     "traceback": [
      "\u001b[1;31m---------------------------------------------------------------------------\u001b[0m",
      "\u001b[1;31mTypeError\u001b[0m                                 Traceback (most recent call last)",
      "Cell \u001b[1;32mIn[5], line 16\u001b[0m\n\u001b[0;32m     13\u001b[0m trainer \u001b[38;5;241m=\u001b[39m pl\u001b[38;5;241m.\u001b[39mTrainer(accelerator\u001b[38;5;241m=\u001b[39m\u001b[38;5;124m\"\u001b[39m\u001b[38;5;124mauto\u001b[39m\u001b[38;5;124m\"\u001b[39m, max_epochs\u001b[38;5;241m=\u001b[39m\u001b[38;5;241m200\u001b[39m)\n\u001b[0;32m     15\u001b[0m \u001b[38;5;66;03m# Train the VAE model\u001b[39;00m\n\u001b[1;32m---> 16\u001b[0m \u001b[43mtrainer\u001b[49m\u001b[38;5;241;43m.\u001b[39;49m\u001b[43mfit\u001b[49m\u001b[43m(\u001b[49m\u001b[43mvae\u001b[49m\u001b[43m,\u001b[49m\u001b[43m \u001b[49m\u001b[43mtrain_dataloader\u001b[49m\u001b[43m,\u001b[49m\u001b[43m \u001b[49m\u001b[43mval_dataloader\u001b[49m\u001b[43m)\u001b[49m\n",
      "File \u001b[1;32m~\\anaconda3\\envs\\FP_Lightning\\lib\\site-packages\\pytorch_lightning\\trainer\\trainer.py:520\u001b[0m, in \u001b[0;36mTrainer.fit\u001b[1;34m(self, model, train_dataloaders, val_dataloaders, datamodule, ckpt_path)\u001b[0m\n\u001b[0;32m    518\u001b[0m model \u001b[38;5;241m=\u001b[39m _maybe_unwrap_optimized(model)\n\u001b[0;32m    519\u001b[0m \u001b[38;5;28mself\u001b[39m\u001b[38;5;241m.\u001b[39mstrategy\u001b[38;5;241m.\u001b[39m_lightning_module \u001b[38;5;241m=\u001b[39m model\n\u001b[1;32m--> 520\u001b[0m \u001b[43mcall\u001b[49m\u001b[38;5;241;43m.\u001b[39;49m\u001b[43m_call_and_handle_interrupt\u001b[49m\u001b[43m(\u001b[49m\n\u001b[0;32m    521\u001b[0m \u001b[43m    \u001b[49m\u001b[38;5;28;43mself\u001b[39;49m\u001b[43m,\u001b[49m\u001b[43m \u001b[49m\u001b[38;5;28;43mself\u001b[39;49m\u001b[38;5;241;43m.\u001b[39;49m\u001b[43m_fit_impl\u001b[49m\u001b[43m,\u001b[49m\u001b[43m \u001b[49m\u001b[43mmodel\u001b[49m\u001b[43m,\u001b[49m\u001b[43m \u001b[49m\u001b[43mtrain_dataloaders\u001b[49m\u001b[43m,\u001b[49m\u001b[43m \u001b[49m\u001b[43mval_dataloaders\u001b[49m\u001b[43m,\u001b[49m\u001b[43m \u001b[49m\u001b[43mdatamodule\u001b[49m\u001b[43m,\u001b[49m\u001b[43m \u001b[49m\u001b[43mckpt_path\u001b[49m\n\u001b[0;32m    522\u001b[0m \u001b[43m\u001b[49m\u001b[43m)\u001b[49m\n",
      "File \u001b[1;32m~\\anaconda3\\envs\\FP_Lightning\\lib\\site-packages\\pytorch_lightning\\trainer\\call.py:44\u001b[0m, in \u001b[0;36m_call_and_handle_interrupt\u001b[1;34m(trainer, trainer_fn, *args, **kwargs)\u001b[0m\n\u001b[0;32m     42\u001b[0m         \u001b[38;5;28;01mreturn\u001b[39;00m trainer\u001b[38;5;241m.\u001b[39mstrategy\u001b[38;5;241m.\u001b[39mlauncher\u001b[38;5;241m.\u001b[39mlaunch(trainer_fn, \u001b[38;5;241m*\u001b[39margs, trainer\u001b[38;5;241m=\u001b[39mtrainer, \u001b[38;5;241m*\u001b[39m\u001b[38;5;241m*\u001b[39mkwargs)\n\u001b[0;32m     43\u001b[0m     \u001b[38;5;28;01melse\u001b[39;00m:\n\u001b[1;32m---> 44\u001b[0m         \u001b[38;5;28;01mreturn\u001b[39;00m \u001b[43mtrainer_fn\u001b[49m\u001b[43m(\u001b[49m\u001b[38;5;241;43m*\u001b[39;49m\u001b[43margs\u001b[49m\u001b[43m,\u001b[49m\u001b[43m \u001b[49m\u001b[38;5;241;43m*\u001b[39;49m\u001b[38;5;241;43m*\u001b[39;49m\u001b[43mkwargs\u001b[49m\u001b[43m)\u001b[49m\n\u001b[0;32m     46\u001b[0m \u001b[38;5;28;01mexcept\u001b[39;00m _TunerExitException:\n\u001b[0;32m     47\u001b[0m     _call_teardown_hook(trainer)\n",
      "File \u001b[1;32m~\\anaconda3\\envs\\FP_Lightning\\lib\\site-packages\\pytorch_lightning\\trainer\\trainer.py:559\u001b[0m, in \u001b[0;36mTrainer._fit_impl\u001b[1;34m(self, model, train_dataloaders, val_dataloaders, datamodule, ckpt_path)\u001b[0m\n\u001b[0;32m    549\u001b[0m \u001b[38;5;28mself\u001b[39m\u001b[38;5;241m.\u001b[39m_data_connector\u001b[38;5;241m.\u001b[39mattach_data(\n\u001b[0;32m    550\u001b[0m     model, train_dataloaders\u001b[38;5;241m=\u001b[39mtrain_dataloaders, val_dataloaders\u001b[38;5;241m=\u001b[39mval_dataloaders, datamodule\u001b[38;5;241m=\u001b[39mdatamodule\n\u001b[0;32m    551\u001b[0m )\n\u001b[0;32m    553\u001b[0m ckpt_path \u001b[38;5;241m=\u001b[39m \u001b[38;5;28mself\u001b[39m\u001b[38;5;241m.\u001b[39m_checkpoint_connector\u001b[38;5;241m.\u001b[39m_select_ckpt_path(\n\u001b[0;32m    554\u001b[0m     \u001b[38;5;28mself\u001b[39m\u001b[38;5;241m.\u001b[39mstate\u001b[38;5;241m.\u001b[39mfn,\n\u001b[0;32m    555\u001b[0m     ckpt_path,\n\u001b[0;32m    556\u001b[0m     model_provided\u001b[38;5;241m=\u001b[39m\u001b[38;5;28;01mTrue\u001b[39;00m,\n\u001b[0;32m    557\u001b[0m     model_connected\u001b[38;5;241m=\u001b[39m\u001b[38;5;28mself\u001b[39m\u001b[38;5;241m.\u001b[39mlightning_module \u001b[38;5;129;01mis\u001b[39;00m \u001b[38;5;129;01mnot\u001b[39;00m \u001b[38;5;28;01mNone\u001b[39;00m,\n\u001b[0;32m    558\u001b[0m )\n\u001b[1;32m--> 559\u001b[0m \u001b[38;5;28;43mself\u001b[39;49m\u001b[38;5;241;43m.\u001b[39;49m\u001b[43m_run\u001b[49m\u001b[43m(\u001b[49m\u001b[43mmodel\u001b[49m\u001b[43m,\u001b[49m\u001b[43m \u001b[49m\u001b[43mckpt_path\u001b[49m\u001b[38;5;241;43m=\u001b[39;49m\u001b[43mckpt_path\u001b[49m\u001b[43m)\u001b[49m\n\u001b[0;32m    561\u001b[0m \u001b[38;5;28;01massert\u001b[39;00m \u001b[38;5;28mself\u001b[39m\u001b[38;5;241m.\u001b[39mstate\u001b[38;5;241m.\u001b[39mstopped\n\u001b[0;32m    562\u001b[0m \u001b[38;5;28mself\u001b[39m\u001b[38;5;241m.\u001b[39mtraining \u001b[38;5;241m=\u001b[39m \u001b[38;5;28;01mFalse\u001b[39;00m\n",
      "File \u001b[1;32m~\\anaconda3\\envs\\FP_Lightning\\lib\\site-packages\\pytorch_lightning\\trainer\\trainer.py:935\u001b[0m, in \u001b[0;36mTrainer._run\u001b[1;34m(self, model, ckpt_path)\u001b[0m\n\u001b[0;32m    930\u001b[0m \u001b[38;5;28mself\u001b[39m\u001b[38;5;241m.\u001b[39m_signal_connector\u001b[38;5;241m.\u001b[39mregister_signal_handlers()\n\u001b[0;32m    932\u001b[0m \u001b[38;5;66;03m# ----------------------------\u001b[39;00m\n\u001b[0;32m    933\u001b[0m \u001b[38;5;66;03m# RUN THE TRAINER\u001b[39;00m\n\u001b[0;32m    934\u001b[0m \u001b[38;5;66;03m# ----------------------------\u001b[39;00m\n\u001b[1;32m--> 935\u001b[0m results \u001b[38;5;241m=\u001b[39m \u001b[38;5;28;43mself\u001b[39;49m\u001b[38;5;241;43m.\u001b[39;49m\u001b[43m_run_stage\u001b[49m\u001b[43m(\u001b[49m\u001b[43m)\u001b[49m\n\u001b[0;32m    937\u001b[0m \u001b[38;5;66;03m# ----------------------------\u001b[39;00m\n\u001b[0;32m    938\u001b[0m \u001b[38;5;66;03m# POST-Training CLEAN UP\u001b[39;00m\n\u001b[0;32m    939\u001b[0m \u001b[38;5;66;03m# ----------------------------\u001b[39;00m\n\u001b[0;32m    940\u001b[0m log\u001b[38;5;241m.\u001b[39mdebug(\u001b[38;5;124mf\u001b[39m\u001b[38;5;124m\"\u001b[39m\u001b[38;5;132;01m{\u001b[39;00m\u001b[38;5;28mself\u001b[39m\u001b[38;5;241m.\u001b[39m\u001b[38;5;18m__class__\u001b[39m\u001b[38;5;241m.\u001b[39m\u001b[38;5;18m__name__\u001b[39m\u001b[38;5;132;01m}\u001b[39;00m\u001b[38;5;124m: trainer tearing down\u001b[39m\u001b[38;5;124m\"\u001b[39m)\n",
      "File \u001b[1;32m~\\anaconda3\\envs\\FP_Lightning\\lib\\site-packages\\pytorch_lightning\\trainer\\trainer.py:976\u001b[0m, in \u001b[0;36mTrainer._run_stage\u001b[1;34m(self)\u001b[0m\n\u001b[0;32m    974\u001b[0m \u001b[38;5;28;01mif\u001b[39;00m \u001b[38;5;28mself\u001b[39m\u001b[38;5;241m.\u001b[39mtraining:\n\u001b[0;32m    975\u001b[0m     \u001b[38;5;28;01mwith\u001b[39;00m isolate_rng():\n\u001b[1;32m--> 976\u001b[0m         \u001b[38;5;28;43mself\u001b[39;49m\u001b[38;5;241;43m.\u001b[39;49m\u001b[43m_run_sanity_check\u001b[49m\u001b[43m(\u001b[49m\u001b[43m)\u001b[49m\n\u001b[0;32m    977\u001b[0m     \u001b[38;5;28;01mwith\u001b[39;00m torch\u001b[38;5;241m.\u001b[39mautograd\u001b[38;5;241m.\u001b[39mset_detect_anomaly(\u001b[38;5;28mself\u001b[39m\u001b[38;5;241m.\u001b[39m_detect_anomaly):\n\u001b[0;32m    978\u001b[0m         \u001b[38;5;28mself\u001b[39m\u001b[38;5;241m.\u001b[39mfit_loop\u001b[38;5;241m.\u001b[39mrun()\n",
      "File \u001b[1;32m~\\anaconda3\\envs\\FP_Lightning\\lib\\site-packages\\pytorch_lightning\\trainer\\trainer.py:1005\u001b[0m, in \u001b[0;36mTrainer._run_sanity_check\u001b[1;34m(self)\u001b[0m\n\u001b[0;32m   1002\u001b[0m call\u001b[38;5;241m.\u001b[39m_call_callback_hooks(\u001b[38;5;28mself\u001b[39m, \u001b[38;5;124m\"\u001b[39m\u001b[38;5;124mon_sanity_check_start\u001b[39m\u001b[38;5;124m\"\u001b[39m)\n\u001b[0;32m   1004\u001b[0m \u001b[38;5;66;03m# run eval step\u001b[39;00m\n\u001b[1;32m-> 1005\u001b[0m \u001b[43mval_loop\u001b[49m\u001b[38;5;241;43m.\u001b[39;49m\u001b[43mrun\u001b[49m\u001b[43m(\u001b[49m\u001b[43m)\u001b[49m\n\u001b[0;32m   1007\u001b[0m call\u001b[38;5;241m.\u001b[39m_call_callback_hooks(\u001b[38;5;28mself\u001b[39m, \u001b[38;5;124m\"\u001b[39m\u001b[38;5;124mon_sanity_check_end\u001b[39m\u001b[38;5;124m\"\u001b[39m)\n\u001b[0;32m   1009\u001b[0m \u001b[38;5;66;03m# reset logger connector\u001b[39;00m\n",
      "File \u001b[1;32m~\\anaconda3\\envs\\FP_Lightning\\lib\\site-packages\\pytorch_lightning\\loops\\utilities.py:174\u001b[0m, in \u001b[0;36m_no_grad_context.<locals>._decorator\u001b[1;34m(self, *args, **kwargs)\u001b[0m\n\u001b[0;32m    172\u001b[0m     context_manager \u001b[38;5;241m=\u001b[39m torch\u001b[38;5;241m.\u001b[39mno_grad\n\u001b[0;32m    173\u001b[0m \u001b[38;5;28;01mwith\u001b[39;00m context_manager():\n\u001b[1;32m--> 174\u001b[0m     \u001b[38;5;28;01mreturn\u001b[39;00m \u001b[43mloop_run\u001b[49m\u001b[43m(\u001b[49m\u001b[38;5;28;43mself\u001b[39;49m\u001b[43m,\u001b[49m\u001b[43m \u001b[49m\u001b[38;5;241;43m*\u001b[39;49m\u001b[43margs\u001b[49m\u001b[43m,\u001b[49m\u001b[43m \u001b[49m\u001b[38;5;241;43m*\u001b[39;49m\u001b[38;5;241;43m*\u001b[39;49m\u001b[43mkwargs\u001b[49m\u001b[43m)\u001b[49m\n",
      "File \u001b[1;32m~\\anaconda3\\envs\\FP_Lightning\\lib\\site-packages\\pytorch_lightning\\loops\\evaluation_loop.py:115\u001b[0m, in \u001b[0;36m_EvaluationLoop.run\u001b[1;34m(self)\u001b[0m\n\u001b[0;32m    113\u001b[0m     previous_dataloader_idx \u001b[38;5;241m=\u001b[39m dataloader_idx\n\u001b[0;32m    114\u001b[0m     \u001b[38;5;66;03m# run step hooks\u001b[39;00m\n\u001b[1;32m--> 115\u001b[0m     \u001b[38;5;28;43mself\u001b[39;49m\u001b[38;5;241;43m.\u001b[39;49m\u001b[43m_evaluation_step\u001b[49m\u001b[43m(\u001b[49m\u001b[43mbatch\u001b[49m\u001b[43m,\u001b[49m\u001b[43m \u001b[49m\u001b[43mbatch_idx\u001b[49m\u001b[43m,\u001b[49m\u001b[43m \u001b[49m\u001b[43mdataloader_idx\u001b[49m\u001b[43m)\u001b[49m\n\u001b[0;32m    116\u001b[0m \u001b[38;5;28;01mexcept\u001b[39;00m \u001b[38;5;167;01mStopIteration\u001b[39;00m:\n\u001b[0;32m    117\u001b[0m     \u001b[38;5;66;03m# this needs to wrap the `*_step` call too (not just `next`) for `dataloader_iter` support\u001b[39;00m\n\u001b[0;32m    118\u001b[0m     \u001b[38;5;28;01mbreak\u001b[39;00m\n",
      "File \u001b[1;32m~\\anaconda3\\envs\\FP_Lightning\\lib\\site-packages\\pytorch_lightning\\loops\\evaluation_loop.py:375\u001b[0m, in \u001b[0;36m_EvaluationLoop._evaluation_step\u001b[1;34m(self, batch, batch_idx, dataloader_idx)\u001b[0m\n\u001b[0;32m    372\u001b[0m \u001b[38;5;28mself\u001b[39m\u001b[38;5;241m.\u001b[39mbatch_progress\u001b[38;5;241m.\u001b[39mincrement_started()\n\u001b[0;32m    374\u001b[0m hook_name \u001b[38;5;241m=\u001b[39m \u001b[38;5;124m\"\u001b[39m\u001b[38;5;124mtest_step\u001b[39m\u001b[38;5;124m\"\u001b[39m \u001b[38;5;28;01mif\u001b[39;00m trainer\u001b[38;5;241m.\u001b[39mtesting \u001b[38;5;28;01melse\u001b[39;00m \u001b[38;5;124m\"\u001b[39m\u001b[38;5;124mvalidation_step\u001b[39m\u001b[38;5;124m\"\u001b[39m\n\u001b[1;32m--> 375\u001b[0m output \u001b[38;5;241m=\u001b[39m \u001b[43mcall\u001b[49m\u001b[38;5;241;43m.\u001b[39;49m\u001b[43m_call_strategy_hook\u001b[49m\u001b[43m(\u001b[49m\u001b[43mtrainer\u001b[49m\u001b[43m,\u001b[49m\u001b[43m \u001b[49m\u001b[43mhook_name\u001b[49m\u001b[43m,\u001b[49m\u001b[43m \u001b[49m\u001b[38;5;241;43m*\u001b[39;49m\u001b[43mstep_kwargs\u001b[49m\u001b[38;5;241;43m.\u001b[39;49m\u001b[43mvalues\u001b[49m\u001b[43m(\u001b[49m\u001b[43m)\u001b[49m\u001b[43m)\u001b[49m\n\u001b[0;32m    377\u001b[0m \u001b[38;5;28mself\u001b[39m\u001b[38;5;241m.\u001b[39mbatch_progress\u001b[38;5;241m.\u001b[39mincrement_processed()\n\u001b[0;32m    379\u001b[0m hook_name \u001b[38;5;241m=\u001b[39m \u001b[38;5;124m\"\u001b[39m\u001b[38;5;124mon_test_batch_end\u001b[39m\u001b[38;5;124m\"\u001b[39m \u001b[38;5;28;01mif\u001b[39;00m trainer\u001b[38;5;241m.\u001b[39mtesting \u001b[38;5;28;01melse\u001b[39;00m \u001b[38;5;124m\"\u001b[39m\u001b[38;5;124mon_validation_batch_end\u001b[39m\u001b[38;5;124m\"\u001b[39m\n",
      "File \u001b[1;32m~\\anaconda3\\envs\\FP_Lightning\\lib\\site-packages\\pytorch_lightning\\trainer\\call.py:288\u001b[0m, in \u001b[0;36m_call_strategy_hook\u001b[1;34m(trainer, hook_name, *args, **kwargs)\u001b[0m\n\u001b[0;32m    285\u001b[0m     \u001b[38;5;28;01mreturn\u001b[39;00m\n\u001b[0;32m    287\u001b[0m \u001b[38;5;28;01mwith\u001b[39;00m trainer\u001b[38;5;241m.\u001b[39mprofiler\u001b[38;5;241m.\u001b[39mprofile(\u001b[38;5;124mf\u001b[39m\u001b[38;5;124m\"\u001b[39m\u001b[38;5;124m[Strategy]\u001b[39m\u001b[38;5;132;01m{\u001b[39;00mtrainer\u001b[38;5;241m.\u001b[39mstrategy\u001b[38;5;241m.\u001b[39m\u001b[38;5;18m__class__\u001b[39m\u001b[38;5;241m.\u001b[39m\u001b[38;5;18m__name__\u001b[39m\u001b[38;5;132;01m}\u001b[39;00m\u001b[38;5;124m.\u001b[39m\u001b[38;5;132;01m{\u001b[39;00mhook_name\u001b[38;5;132;01m}\u001b[39;00m\u001b[38;5;124m\"\u001b[39m):\n\u001b[1;32m--> 288\u001b[0m     output \u001b[38;5;241m=\u001b[39m \u001b[43mfn\u001b[49m\u001b[43m(\u001b[49m\u001b[38;5;241;43m*\u001b[39;49m\u001b[43margs\u001b[49m\u001b[43m,\u001b[49m\u001b[43m \u001b[49m\u001b[38;5;241;43m*\u001b[39;49m\u001b[38;5;241;43m*\u001b[39;49m\u001b[43mkwargs\u001b[49m\u001b[43m)\u001b[49m\n\u001b[0;32m    290\u001b[0m \u001b[38;5;66;03m# restore current_fx when nested context\u001b[39;00m\n\u001b[0;32m    291\u001b[0m pl_module\u001b[38;5;241m.\u001b[39m_current_fx_name \u001b[38;5;241m=\u001b[39m prev_fx_name\n",
      "File \u001b[1;32m~\\anaconda3\\envs\\FP_Lightning\\lib\\site-packages\\pytorch_lightning\\strategies\\strategy.py:378\u001b[0m, in \u001b[0;36mStrategy.validation_step\u001b[1;34m(self, *args, **kwargs)\u001b[0m\n\u001b[0;32m    376\u001b[0m \u001b[38;5;28;01mwith\u001b[39;00m \u001b[38;5;28mself\u001b[39m\u001b[38;5;241m.\u001b[39mprecision_plugin\u001b[38;5;241m.\u001b[39mval_step_context():\n\u001b[0;32m    377\u001b[0m     \u001b[38;5;28;01massert\u001b[39;00m \u001b[38;5;28misinstance\u001b[39m(\u001b[38;5;28mself\u001b[39m\u001b[38;5;241m.\u001b[39mmodel, ValidationStep)\n\u001b[1;32m--> 378\u001b[0m     \u001b[38;5;28;01mreturn\u001b[39;00m \u001b[38;5;28;43mself\u001b[39;49m\u001b[38;5;241;43m.\u001b[39;49m\u001b[43mmodel\u001b[49m\u001b[38;5;241;43m.\u001b[39;49m\u001b[43mvalidation_step\u001b[49m\u001b[43m(\u001b[49m\u001b[38;5;241;43m*\u001b[39;49m\u001b[43margs\u001b[49m\u001b[43m,\u001b[49m\u001b[43m \u001b[49m\u001b[38;5;241;43m*\u001b[39;49m\u001b[38;5;241;43m*\u001b[39;49m\u001b[43mkwargs\u001b[49m\u001b[43m)\u001b[49m\n",
      "File \u001b[1;32m~\\FortgeschrittenesPraktikum\\PyTorch_Lightning_VAE\\library.py:148\u001b[0m, in \u001b[0;36mVariationalAutoencoder.validation_step\u001b[1;34m(self, batch, batch_idx)\u001b[0m\n\u001b[0;32m    146\u001b[0m \u001b[38;5;28mprint\u001b[39m(\u001b[38;5;124m\"\u001b[39m\u001b[38;5;124my: \u001b[39m\u001b[38;5;124m\"\u001b[39m, y)\n\u001b[0;32m    147\u001b[0m y_pred \u001b[38;5;241m=\u001b[39m \u001b[38;5;28mself\u001b[39m(x)\n\u001b[1;32m--> 148\u001b[0m loss \u001b[38;5;241m=\u001b[39m \u001b[43mtorch\u001b[49m\u001b[38;5;241;43m.\u001b[39;49m\u001b[43mnn\u001b[49m\u001b[38;5;241;43m.\u001b[39;49m\u001b[43mfunctional\u001b[49m\u001b[38;5;241;43m.\u001b[39;49m\u001b[43mcross_entropy\u001b[49m\u001b[43m(\u001b[49m\u001b[43my_pred\u001b[49m\u001b[43m,\u001b[49m\u001b[43m \u001b[49m\u001b[43my\u001b[49m\u001b[43m)\u001b[49m\n\u001b[0;32m    149\u001b[0m acc \u001b[38;5;241m=\u001b[39m \u001b[38;5;28mself\u001b[39m\u001b[38;5;241m.\u001b[39mmetrics_accuracy(y_pred, y)\n\u001b[0;32m    150\u001b[0m batch_logs \u001b[38;5;241m=\u001b[39m {\u001b[38;5;124m'\u001b[39m\u001b[38;5;124mval_loss\u001b[39m\u001b[38;5;124m'\u001b[39m: loss, \u001b[38;5;124m'\u001b[39m\u001b[38;5;124mval_acc\u001b[39m\u001b[38;5;124m'\u001b[39m: acc}\n",
      "File \u001b[1;32m~\\anaconda3\\envs\\FP_Lightning\\lib\\site-packages\\torch\\nn\\functional.py:2996\u001b[0m, in \u001b[0;36mcross_entropy\u001b[1;34m(input, target, weight, size_average, ignore_index, reduce, reduction, label_smoothing)\u001b[0m\n\u001b[0;32m   2994\u001b[0m \u001b[38;5;28;01mif\u001b[39;00m size_average \u001b[38;5;129;01mis\u001b[39;00m \u001b[38;5;129;01mnot\u001b[39;00m \u001b[38;5;28;01mNone\u001b[39;00m \u001b[38;5;129;01mor\u001b[39;00m reduce \u001b[38;5;129;01mis\u001b[39;00m \u001b[38;5;129;01mnot\u001b[39;00m \u001b[38;5;28;01mNone\u001b[39;00m:\n\u001b[0;32m   2995\u001b[0m     reduction \u001b[38;5;241m=\u001b[39m _Reduction\u001b[38;5;241m.\u001b[39mlegacy_get_string(size_average, reduce)\n\u001b[1;32m-> 2996\u001b[0m \u001b[38;5;28;01mreturn\u001b[39;00m \u001b[43mtorch\u001b[49m\u001b[38;5;241;43m.\u001b[39;49m\u001b[43m_C\u001b[49m\u001b[38;5;241;43m.\u001b[39;49m\u001b[43m_nn\u001b[49m\u001b[38;5;241;43m.\u001b[39;49m\u001b[43mcross_entropy_loss\u001b[49m\u001b[43m(\u001b[49m\u001b[38;5;28;43minput\u001b[39;49m\u001b[43m,\u001b[49m\u001b[43m \u001b[49m\u001b[43mtarget\u001b[49m\u001b[43m,\u001b[49m\u001b[43m \u001b[49m\u001b[43mweight\u001b[49m\u001b[43m,\u001b[49m\u001b[43m \u001b[49m\u001b[43m_Reduction\u001b[49m\u001b[38;5;241;43m.\u001b[39;49m\u001b[43mget_enum\u001b[49m\u001b[43m(\u001b[49m\u001b[43mreduction\u001b[49m\u001b[43m)\u001b[49m\u001b[43m,\u001b[49m\u001b[43m \u001b[49m\u001b[43mignore_index\u001b[49m\u001b[43m,\u001b[49m\u001b[43m \u001b[49m\u001b[43mlabel_smoothing\u001b[49m\u001b[43m)\u001b[49m\n",
      "\u001b[1;31mTypeError\u001b[0m: cross_entropy_loss(): argument 'input' (position 1) must be Tensor, not tuple"
     ]
    }
   ],
   "source": [
    "#encoder_layers, latent_dim, decoder_layers\n",
    "dim = 2560\n",
    "a = int(dim * 1/16)\n",
    "b = int(dim * 1/8)\n",
    "c = int(dim * 1/2)\n",
    "encoder_layers = [dim, c, b, a]\n",
    "latent_dim = a\n",
    "decoder_layers = [a, b, c, dim]\n",
    "\n",
    "# Initialize the VAE model\n",
    "vae = lib.VariationalAutoencoder(encoder_layers, latent_dim, decoder_layers)\n",
    "\n",
    "trainer = pl.Trainer(accelerator=\"auto\", max_epochs=200)\n",
    "\n",
    "# Train the VAE model\n",
    "trainer.fit(vae, train_dataloader, val_dataloader)\n"
   ]
  },
  {
   "cell_type": "code",
   "execution_count": null,
   "id": "2d6df998",
   "metadata": {},
   "outputs": [],
   "source": [
    "#Validate\n",
    "trainer.validate(vae, val_dataloader)"
   ]
  },
  {
   "cell_type": "code",
   "execution_count": null,
   "id": "efe860af",
   "metadata": {},
   "outputs": [],
   "source": [
    "#Plot\n",
    "\n",
    "\n",
    "\n"
   ]
  }
 ],
 "metadata": {
  "kernelspec": {
   "display_name": "FP_Lightning",
   "language": "python",
   "name": "fp_lightning"
  },
  "language_info": {
   "codemirror_mode": {
    "name": "ipython",
    "version": 3
   },
   "file_extension": ".py",
   "mimetype": "text/x-python",
   "name": "python",
   "nbconvert_exporter": "python",
   "pygments_lexer": "ipython3",
   "version": "3.8.5"
  }
 },
 "nbformat": 4,
 "nbformat_minor": 5
}
