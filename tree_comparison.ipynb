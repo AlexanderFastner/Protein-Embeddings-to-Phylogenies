{
 "cells": [
  {
   "cell_type": "markdown",
   "id": "60b9c2be",
   "metadata": {},
   "source": [
    "# Tree comparison"
   ]
  },
  {
   "cell_type": "markdown",
   "id": "7941ae7d",
   "metadata": {},
   "source": [
    "## case_insensitiv: changed GZMA_Canis_lupus to GZMA_Canis_lupus_1"
   ]
  },
  {
   "cell_type": "code",
   "execution_count": 1,
   "id": "f8a7c906",
   "metadata": {},
   "outputs": [],
   "source": [
    "import os\n",
    "from ete3 import Tree as ete_tree\n",
    "import dendropy \n",
    "from dendropy import Tree as dendropy_tree\n",
    "from dendropy.calculate import treecompare\n",
    "\n",
    "#from pycirclize import Circos\n",
    "from io import StringIO\n",
    "from Bio import Phylo\n",
    "import csv\n",
    "from pathlib import Path"
   ]
  },
  {
   "cell_type": "markdown",
   "id": "94c2be5e",
   "metadata": {},
   "source": [
    "# Parameter"
   ]
  },
  {
   "cell_type": "code",
   "execution_count": 2,
   "id": "b89618c2",
   "metadata": {},
   "outputs": [],
   "source": [
    "converter = False\n",
    "\n",
    "out_dir = str(os.getcwd())+\"/out_dir/\"\n",
    "#work_dir = str(os.getcwd())\n",
    "input = \"./inputs/\"\n",
    "\n",
    "\n",
    "multiple_comparison = False\n",
    "\n",
    "reference_tree = str(out_dir) + \"KLK.newick\"\n",
    "t2 = str(out_dir) + \"KLK_sig_esm2_nj_0_euclidean.newick\"\n"
   ]
  },
  {
   "cell_type": "markdown",
   "id": "2dc4d125",
   "metadata": {},
   "source": [
    "# Comparison Metric"
   ]
  },
  {
   "cell_type": "code",
   "execution_count": 3,
   "id": "b6351e19",
   "metadata": {},
   "outputs": [],
   "source": [
    "def get_comparison(t1, t2):\n",
    "    \n",
    "    print(\"Reference Tree: \",t1)\n",
    "    print(\"Tree: \",t2+\"\\n\")\n",
    "    \n",
    "    ### ETE\n",
    "    tree1_ete = ete_tree(t1)\n",
    "    tree2_ete = ete_tree(t2)\n",
    "\n",
    "    rf, max_rf, common_leaves, parts_t1, parts_t2, discard_t1, discart_t2  = tree1_ete.robinson_foulds(tree2_ete,unrooted_trees=True)\n",
    "    print(\"RF distance is %s over a total of %s\" %(rf, max_rf))\n",
    "    print(\"Partitions in tree2 that were not found in tree1:\", len(parts_t1 - parts_t2))\n",
    "    print(\"Partitions in tree1 that were not found in tree2:\", len(parts_t2 - parts_t1))\n",
    "\n",
    "\n",
    "    ### Dendropy\n",
    "    tns = dendropy.TaxonNamespace()\n",
    "    tree1 = dendropy_tree.get(path=t1,\n",
    "            schema=\"newick\",taxon_namespace=tns)#,case_sensitive_taxon_labels=True)\n",
    "    tree2 = dendropy_tree.get(\n",
    "            path=t2,\n",
    "            schema=\"newick\",taxon_namespace=tns)#,case_sensitive_taxon_labels=True)\n",
    "\n",
    "    #!!!! Problem with reading case insensitive leaf nodes !!!!\n",
    "    #changed GZMA_Canis_lupus to GZMA_Canis_lupus_1: case_insensitvity \n",
    "\n",
    "    tree1.encode_bipartitions()\n",
    "    tree2.encode_bipartitions()\n",
    "\n",
    "    print(\"euclidean_distance: \"+str(treecompare.euclidean_distance(tree1, tree2)))\n",
    "    print(\"symmetric_difference: \"+str(treecompare.symmetric_difference(tree1, tree2)))\n",
    "    print(\"false_positives_and_negatives: \"+str(treecompare.false_positives_and_negatives(tree1, tree2)))\n",
    "    print(\"robinson_foulds_distance: \"+str(treecompare.robinson_foulds_distance(tree1, tree2)))\n"
   ]
  },
  {
   "cell_type": "code",
   "execution_count": 4,
   "id": "165b976b",
   "metadata": {},
   "outputs": [
    {
     "name": "stdout",
     "output_type": "stream",
     "text": [
      "Reference Tree:  /Users/adel.schmucklermann/Desktop/PyTorch_Lightning_VAE/out_dir/KLK.newick\n",
      "Tree:  /Users/adel.schmucklermann/Desktop/PyTorch_Lightning_VAE/out_dir/KLK_sig_esm2_nj_0_euclidean.newick\n",
      "\n",
      "RF distance is 700 over a total of 850\n",
      "Partitions in tree2 that were not found in tree1: 341\n",
      "Partitions in tree1 that were not found in tree2: 359\n",
      "euclidean_distance: 6.612540974309359\n",
      "symmetric_difference: 704\n",
      "false_positives_and_negatives: (360, 344)\n",
      "robinson_foulds_distance: 177.50811655100028\n"
     ]
    }
   ],
   "source": [
    "if multiple_comparison:\n",
    "\n",
    "    pathlist = Path(out_dir).rglob('*.newick')\n",
    "    for path in pathlist:\n",
    "        path_in_str = str(path)\n",
    "        print(\"\\n\")\n",
    "        get_comparison(reference_tree, path_in_str)\n",
    "else:\n",
    "    get_comparison(reference_tree, t2)"
   ]
  },
  {
   "cell_type": "markdown",
   "id": "c53e8fad",
   "metadata": {},
   "source": [
    "# Draw Tree with Circos"
   ]
  },
  {
   "cell_type": "code",
   "execution_count": 5,
   "id": "11d47a33",
   "metadata": {},
   "outputs": [
    {
     "ename": "NameError",
     "evalue": "name 'Circos' is not defined",
     "output_type": "error",
     "traceback": [
      "\u001b[0;31m---------------------------------------------------------------------------\u001b[0m",
      "\u001b[0;31mNameError\u001b[0m                                 Traceback (most recent call last)",
      "Cell \u001b[0;32mIn[5], line 21\u001b[0m\n\u001b[1;32m     18\u001b[0m tree \u001b[38;5;241m=\u001b[39m Phylo\u001b[38;5;241m.\u001b[39mread(tree_in, \u001b[38;5;124m\"\u001b[39m\u001b[38;5;124mnewick\u001b[39m\u001b[38;5;124m\"\u001b[39m)\n\u001b[1;32m     20\u001b[0m \u001b[38;5;66;03m# Initialize circos sector with tree size\u001b[39;00m\n\u001b[0;32m---> 21\u001b[0m circos \u001b[38;5;241m=\u001b[39m \u001b[43mCircos\u001b[49m(sectors\u001b[38;5;241m=\u001b[39m{\u001b[38;5;124m\"\u001b[39m\u001b[38;5;124mTree\u001b[39m\u001b[38;5;124m\"\u001b[39m: tree\u001b[38;5;241m.\u001b[39mcount_terminals()})\n\u001b[1;32m     22\u001b[0m sector \u001b[38;5;241m=\u001b[39m circos\u001b[38;5;241m.\u001b[39msectors[\u001b[38;5;241m0\u001b[39m]\n\u001b[1;32m     24\u001b[0m \u001b[38;5;66;03m# Plot tree\u001b[39;00m\n",
      "\u001b[0;31mNameError\u001b[0m: name 'Circos' is not defined"
     ]
    }
   ],
   "source": [
    "tree_in = t2\n",
    "\n",
    "#read color_file\n",
    "dict_color = {}\n",
    "with open(str(input) + \"KLK_iTOL.txt\") as csv_file:\n",
    "    for row in csv.reader(csv_file, delimiter='\\t'):\n",
    "        if len(row) > 1:\n",
    "            key = row[2]\n",
    "            if key in dict_color:\n",
    "                dict_color[key].append(row[0])\n",
    "            else:\n",
    "                dict_color[key] = [row[0]]\n",
    "                \n",
    "list_of_color = [(value,key) for key, value in dict_color.items()]                                    \n",
    "\n",
    "\n",
    "#create tree\n",
    "tree = Phylo.read(tree_in, \"newick\")\n",
    "\n",
    "# Initialize circos sector with tree size\n",
    "circos = Circos(sectors={\"Tree\": tree.count_terminals()})\n",
    "sector = circos.sectors[0]\n",
    "\n",
    "# Plot tree\n",
    "track = sector.add_track((50, 100))\n",
    "track.tree(tree,leaf_label_size=4, node_color_list=list_of_color)\n",
    "\n",
    "fig = circos.plotfig()\n",
    "#circos.savefig(str(out_dir) + \"KLK_prott5.png\", dpi=300)"
   ]
  },
  {
   "cell_type": "markdown",
   "id": "0b36d376",
   "metadata": {},
   "source": [
    "# Format change"
   ]
  },
  {
   "cell_type": "markdown",
   "id": "3328a96d",
   "metadata": {},
   "source": [
    "## Convert h5 to npz"
   ]
  },
  {
   "cell_type": "code",
   "execution_count": null,
   "id": "65330aad",
   "metadata": {},
   "outputs": [],
   "source": [
    "if converter: \n",
    "\n",
    "    h5_file = str(input) + \"KLK_prott5.h5\"\n",
    "    prott5 = True\n",
    "\n",
    "    #make numpy file with (seq header, embedding)\n",
    "    esm2 = h5py.File(h5_file, 'r')\n",
    "    list(esm2.keys())\n",
    "    # List all groups\n",
    "    keys = list(esm2.keys())\n",
    "    #print(keys) \n",
    "    # Get the data\n",
    "    esm2values = []\n",
    "    headers = []\n",
    "    for key in keys:\n",
    "        #data\n",
    "        emb = esm2[key][:]\n",
    "        #value = np.array(esm2[key][:])\n",
    "        #print(value)\n",
    "        if prott5:\n",
    "            esm2values.append(emb[0])\n",
    "        else:    \n",
    "            esm2values.append(emb)\n",
    "        #headers\n",
    "        key = key.replace(\"isoform=\", \"isoform_\").replace(\"=\", \"\").replace(\":\", \"_\")\n",
    "\n",
    "        #check case-sensitivity\n",
    "        if key.lower() in (item.lower() for item in headers):\n",
    "            print('The string is in list: '+key)\n",
    "            key = key+\"_01\"\n",
    "            print('New key: '+key)\n",
    "\n",
    "        headers.append(key)\n",
    "\n",
    "    #np.savez(\"/Users/adel.schmucklermann/Desktop/FoPra/KLK/KLK_prott5.npz\", headers=headers, embedding=esm2values)"
   ]
  },
  {
   "cell_type": "markdown",
   "id": "bd8d91d4",
   "metadata": {},
   "source": [
    "## Convert Nexus to Newick"
   ]
  },
  {
   "cell_type": "code",
   "execution_count": null,
   "id": "9fd9f15d",
   "metadata": {},
   "outputs": [],
   "source": [
    "if converter:\n",
    "    import dendropy\n",
    "    post_trees = dendropy.TreeList()\n",
    "    post_trees.read(\n",
    "             file=open(str(out_dir) + \"KLK.nexus\", \"r\"),\n",
    "             schema=\"nexus\")\n",
    "    post_trees.write(\n",
    "         path=str(out_dir) + \"KLK.newick\",schema=\"newick\")\n",
    "\n",
    "    #changed GZMA_Canis_lupus to GZMA_Canis_lupus_1: case_insensitvity "
   ]
  }
 ],
 "metadata": {
  "kernelspec": {
   "display_name": "FP_Lightning",
   "language": "python",
   "name": "fp_lightning"
  },
  "language_info": {
   "codemirror_mode": {
    "name": "ipython",
    "version": 3
   },
   "file_extension": ".py",
   "mimetype": "text/x-python",
   "name": "python",
   "nbconvert_exporter": "python",
   "pygments_lexer": "ipython3",
   "version": "3.8.5"
  }
 },
 "nbformat": 4,
 "nbformat_minor": 5
}
