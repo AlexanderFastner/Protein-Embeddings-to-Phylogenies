{
 "cells": [
  {
   "cell_type": "markdown",
   "id": "60b9c2be",
   "metadata": {},
   "source": [
    "# Tree comparison"
   ]
  },
  {
   "cell_type": "markdown",
   "id": "7941ae7d",
   "metadata": {},
   "source": [
    "## case_insensitiv: changed GZMA_Canis_lupus to GZMA_Canis_lupus_1"
   ]
  },
  {
   "cell_type": "code",
   "execution_count": 1,
   "id": "b89618c2",
   "metadata": {},
   "outputs": [],
   "source": [
    "t1 = \"./KLK.newick\"\n",
    "t2 = \"./KLK_esm2_upgma_100_cosine.newick\""
   ]
  },
  {
   "cell_type": "code",
   "execution_count": 2,
   "id": "b6351e19",
   "metadata": {},
   "outputs": [
    {
     "ename": "NewickError",
     "evalue": "Unexisting tree file or Malformed newick tree structure.\nYou may want to check other newick loading flags like 'format' or 'quoted_node_names'.",
     "output_type": "error",
     "traceback": [
      "\u001b[1;31m---------------------------------------------------------------------------\u001b[0m",
      "\u001b[1;31mNewickError\u001b[0m                               Traceback (most recent call last)",
      "Cell \u001b[1;32mIn[2], line 4\u001b[0m\n\u001b[0;32m      1\u001b[0m \u001b[38;5;28;01mfrom\u001b[39;00m \u001b[38;5;21;01mete3\u001b[39;00m \u001b[38;5;28;01mimport\u001b[39;00m Tree\n\u001b[0;32m      3\u001b[0m tree1_ete \u001b[38;5;241m=\u001b[39m Tree(t1)\n\u001b[1;32m----> 4\u001b[0m tree2_ete \u001b[38;5;241m=\u001b[39m \u001b[43mTree\u001b[49m\u001b[43m(\u001b[49m\u001b[43mt2\u001b[49m\u001b[43m)\u001b[49m\n\u001b[0;32m      7\u001b[0m \u001b[38;5;66;03m#results = tree1.compare(tree2,unrooted=True)\u001b[39;00m\n\u001b[0;32m      8\u001b[0m \u001b[38;5;66;03m#results\u001b[39;00m\n\u001b[0;32m     10\u001b[0m rf, max_rf, common_leaves, parts_t1, parts_t2, discard_t1, discart_t2  \u001b[38;5;241m=\u001b[39m tree1_ete\u001b[38;5;241m.\u001b[39mrobinson_foulds(tree2_ete,unrooted_trees\u001b[38;5;241m=\u001b[39m\u001b[38;5;28;01mTrue\u001b[39;00m)\n",
      "File \u001b[1;32m~\\anaconda3\\envs\\FP_Lightning\\lib\\site-packages\\ete3\\coretype\\tree.py:210\u001b[0m, in \u001b[0;36mTreeNode.__init__\u001b[1;34m(self, newick, format, dist, support, name, quoted_node_names)\u001b[0m\n\u001b[0;32m    208\u001b[0m \u001b[38;5;28;01mif\u001b[39;00m newick \u001b[38;5;129;01mis\u001b[39;00m \u001b[38;5;129;01mnot\u001b[39;00m \u001b[38;5;28;01mNone\u001b[39;00m:\n\u001b[0;32m    209\u001b[0m     \u001b[38;5;28mself\u001b[39m\u001b[38;5;241m.\u001b[39m_dist \u001b[38;5;241m=\u001b[39m \u001b[38;5;241m0.0\u001b[39m\n\u001b[1;32m--> 210\u001b[0m     \u001b[43mread_newick\u001b[49m\u001b[43m(\u001b[49m\u001b[43mnewick\u001b[49m\u001b[43m,\u001b[49m\u001b[43m \u001b[49m\u001b[43mroot_node\u001b[49m\u001b[43m \u001b[49m\u001b[38;5;241;43m=\u001b[39;49m\u001b[43m \u001b[49m\u001b[38;5;28;43mself\u001b[39;49m\u001b[43m,\u001b[49m\u001b[43m \u001b[49m\u001b[38;5;28;43mformat\u001b[39;49m\u001b[38;5;241;43m=\u001b[39;49m\u001b[38;5;28;43mformat\u001b[39;49m\u001b[43m,\u001b[49m\n\u001b[0;32m    211\u001b[0m \u001b[43m                \u001b[49m\u001b[43mquoted_names\u001b[49m\u001b[38;5;241;43m=\u001b[39;49m\u001b[43mquoted_node_names\u001b[49m\u001b[43m)\u001b[49m\n",
      "File \u001b[1;32m~\\anaconda3\\envs\\FP_Lightning\\lib\\site-packages\\ete3\\parser\\newick.py:249\u001b[0m, in \u001b[0;36mread_newick\u001b[1;34m(newick, root_node, format, quoted_names)\u001b[0m\n\u001b[0;32m    247\u001b[0m     \u001b[38;5;28;01mreturn\u001b[39;00m _read_newick_from_string(nw, root_node, matcher, \u001b[38;5;28mformat\u001b[39m, quoted_names)\n\u001b[0;32m    248\u001b[0m \u001b[38;5;28;01melif\u001b[39;00m \u001b[38;5;129;01mnot\u001b[39;00m nw\u001b[38;5;241m.\u001b[39mstartswith(\u001b[38;5;124m'\u001b[39m\u001b[38;5;124m(\u001b[39m\u001b[38;5;124m'\u001b[39m) \u001b[38;5;129;01mor\u001b[39;00m \u001b[38;5;129;01mnot\u001b[39;00m nw\u001b[38;5;241m.\u001b[39mendswith(\u001b[38;5;124m'\u001b[39m\u001b[38;5;124m;\u001b[39m\u001b[38;5;124m'\u001b[39m):\n\u001b[1;32m--> 249\u001b[0m     \u001b[38;5;28;01mraise\u001b[39;00m NewickError(\u001b[38;5;124m'\u001b[39m\u001b[38;5;124mUnexisting tree file or Malformed newick tree structure.\u001b[39m\u001b[38;5;124m'\u001b[39m)\n\u001b[0;32m    250\u001b[0m \u001b[38;5;28;01melse\u001b[39;00m:\n\u001b[0;32m    251\u001b[0m     \u001b[38;5;28;01mreturn\u001b[39;00m _read_newick_from_string(nw, root_node, matcher, \u001b[38;5;28mformat\u001b[39m, quoted_names)\n",
      "\u001b[1;31mNewickError\u001b[0m: Unexisting tree file or Malformed newick tree structure.\nYou may want to check other newick loading flags like 'format' or 'quoted_node_names'."
     ]
    }
   ],
   "source": [
    "from ete3 import Tree\n",
    "\n",
    "tree1_ete = Tree(t1)\n",
    "tree2_ete = Tree(t2)\n",
    "\n",
    "\n",
    "#results = tree1.compare(tree2,unrooted=True)\n",
    "#results\n",
    "\n",
    "rf, max_rf, common_leaves, parts_t1, parts_t2, discard_t1, discart_t2  = tree1_ete.robinson_foulds(tree2_ete,unrooted_trees=True)\n",
    "print(\"RF distance is %s over a total of %s\" %(rf, max_rf))\n",
    "print(\"Partitions in tree2 that were not found in tree1:\", len(parts_t1 - parts_t2))\n",
    "print(\"Partitions in tree1 that were not found in tree2:\", len(parts_t2 - parts_t1))"
   ]
  },
  {
   "cell_type": "code",
   "execution_count": null,
   "id": "0716ae88",
   "metadata": {},
   "outputs": [],
   "source": [
    "import dendropy \n",
    "from dendropy import Tree \n",
    "from dendropy.calculate import treecompare\n",
    "\n",
    "tns = dendropy.TaxonNamespace()\n",
    "tree1 = Tree.get(path=t1,\n",
    "        schema=\"newick\",taxon_namespace=tns)#,case_sensitive_taxon_labels=True)\n",
    "tree2 = Tree.get(\n",
    "        path=t2,\n",
    "        schema=\"newick\",taxon_namespace=tns)#,case_sensitive_taxon_labels=True)\n",
    "\n",
    "#!!!! Problem with reading case insensitive leaf nodes !!!!\n",
    "#changed GZMA_Canis_lupus to GZMA_Canis_lupus_1: case_insensitvity \n",
    "\n",
    "tree1.encode_bipartitions()\n",
    "tree2.encode_bipartitions()\n",
    "\n",
    "print(\"euclidean_distance: \"+str(treecompare.euclidean_distance(tree1, tree2)))\n",
    "print(\"symmetric_difference: \"+str(treecompare.symmetric_difference(tree1, tree2)))\n",
    "print(\"false_positives_and_negatives: \"+str(treecompare.false_positives_and_negatives(tree1, tree2)))\n",
    "print(\"robinson_foulds_distance: \"+str(treecompare.robinson_foulds_distance(tree1, tree2)))"
   ]
  },
  {
   "cell_type": "markdown",
   "id": "c53e8fad",
   "metadata": {},
   "source": [
    "# Draw Tree with Circos"
   ]
  },
  {
   "cell_type": "code",
   "execution_count": null,
   "id": "11d47a33",
   "metadata": {},
   "outputs": [],
   "source": [
    "from pycirclize import Circos\n",
    "from io import StringIO\n",
    "from Bio import Phylo\n",
    "import csv\n",
    "\n",
    "\n",
    "tree_in = t2\n",
    "\n",
    "#read color_file\n",
    "dict_color = {}\n",
    "with open(\"/Users/adel.schmucklermann/Desktop/FoPra/KLK/KLK_iTOL.txt\") as csv_file:\n",
    "    for row in csv.reader(csv_file, delimiter='\\t'):\n",
    "        if len(row) > 1:\n",
    "            key = row[2]\n",
    "            if key in dict_color:\n",
    "                dict_color[key].append(row[0])\n",
    "            else:\n",
    "                dict_color[key] = [row[0]]\n",
    "                \n",
    "list_of_color = [(value,key) for key, value in dict_color.items()]                                    \n",
    "\n",
    "\n",
    "#create tree\n",
    "tree = Phylo.read(tree_in, \"newick\")\n",
    "\n",
    "# Initialize circos sector with tree size\n",
    "circos = Circos(sectors={\"Tree\": tree.count_terminals()})\n",
    "sector = circos.sectors[0]\n",
    "\n",
    "# Plot tree\n",
    "track = sector.add_track((50, 100))\n",
    "track.tree(tree,leaf_label_size=4, node_color_list=list_of_color)\n",
    "\n",
    "fig = circos.plotfig()\n",
    "circos.savefig(\"/Users/adel.schmucklermann/Desktop/FoPra/KLK_prott5.png\", dpi=300)"
   ]
  },
  {
   "cell_type": "markdown",
   "id": "0b36d376",
   "metadata": {},
   "source": [
    "# Format change"
   ]
  },
  {
   "cell_type": "markdown",
   "id": "3328a96d",
   "metadata": {},
   "source": [
    "# Convert h5 to npz"
   ]
  },
  {
   "cell_type": "code",
   "execution_count": null,
   "id": "65330aad",
   "metadata": {},
   "outputs": [],
   "source": [
    "h5_file = \"/Users/adel.schmucklermann/Desktop/FoPra/KLK/KLK_prott5.h5\"\n",
    "prott5 = True\n",
    "\n",
    "#make numpy file with (seq header, embedding)\n",
    "esm2 = h5py.File(h5_file, 'r')\n",
    "list(esm2.keys())\n",
    "# List all groups\n",
    "keys = list(esm2.keys())\n",
    "#print(keys) \n",
    "# Get the data\n",
    "esm2values = []\n",
    "headers = []\n",
    "for key in keys:\n",
    "    #data\n",
    "    emb = esm2[key][:]\n",
    "    #value = np.array(esm2[key][:])\n",
    "    #print(value)\n",
    "    if prott5:\n",
    "        esm2values.append(emb[0])\n",
    "    else:    \n",
    "        esm2values.append(emb)\n",
    "    #headers\n",
    "    key = key.replace(\"isoform=\", \"isoform_\").replace(\"=\", \"\").replace(\":\", \"_\")\n",
    "    \n",
    "    #check case-sensitivity\n",
    "    if key.lower() in (item.lower() for item in headers):\n",
    "        print('The string is in list: '+key)\n",
    "        key = key+\"_01\"\n",
    "        print('New key: '+key)\n",
    "    \n",
    "    headers.append(key)\n",
    "\n",
    "#np.savez(\"/Users/adel.schmucklermann/Desktop/FoPra/KLK/KLK_prott5.npz\", headers=headers, embedding=esm2values)"
   ]
  },
  {
   "cell_type": "markdown",
   "id": "bd8d91d4",
   "metadata": {},
   "source": [
    "# Convert Nexus to Newick"
   ]
  },
  {
   "cell_type": "code",
   "execution_count": null,
   "id": "9fd9f15d",
   "metadata": {},
   "outputs": [],
   "source": [
    "import dendropy\n",
    "post_trees = dendropy.TreeList()\n",
    "post_trees.read(\n",
    "         file=open(\"/Users/adel.schmucklermann/Desktop/FoPra/KLK/KLK.nexus\", \"r\"),\n",
    "         schema=\"nexus\")\n",
    "post_trees.write(\n",
    "     path=\"/Users/adel.schmucklermann/Desktop/FoPra/KLK/KLK.newick\",schema=\"newick\")\n",
    "\n",
    "#changed GZMA_Canis_lupus to GZMA_Canis_lupus_1: case_insensitvity "
   ]
  }
 ],
 "metadata": {
  "kernelspec": {
   "display_name": "FP_Lightning",
   "language": "python",
   "name": "fp_lightning"
  },
  "language_info": {
   "codemirror_mode": {
    "name": "ipython",
    "version": 3
   },
   "file_extension": ".py",
   "mimetype": "text/x-python",
   "name": "python",
   "nbconvert_exporter": "python",
   "pygments_lexer": "ipython3",
   "version": "3.8.5"
  }
 },
 "nbformat": 4,
 "nbformat_minor": 5
}
