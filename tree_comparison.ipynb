{
 "cells": [
  {
   "cell_type": "markdown",
   "id": "60b9c2be",
   "metadata": {},
   "source": [
    "# Tree comparison"
   ]
  },
  {
   "cell_type": "markdown",
   "id": "7941ae7d",
   "metadata": {},
   "source": [
    "## case_insensitiv: changed GZMA_Canis_lupus to GZMA_Canis_lupus_1"
   ]
  },
  {
   "cell_type": "code",
   "execution_count": 1,
   "id": "b89618c2",
   "metadata": {},
   "outputs": [],
   "source": [
    "out_dir = \"./out_dir/\"\n",
    "work_dir = \".\"\n",
    "input = \"./inputs/\"\n",
    "t1 = str(out_dir) + \"KLK.newick\"\n",
    "t2 = str(out_dir) + \"KLK_esm2_upgma_499_cosine.newick\""
   ]
  },
  {
   "cell_type": "code",
   "execution_count": 2,
   "id": "b6351e19",
   "metadata": {},
   "outputs": [
    {
     "name": "stdout",
     "output_type": "stream",
     "text": [
      "RF distance is 782 over a total of 850\n",
      "Partitions in tree2 that were not found in tree1: 382\n",
      "Partitions in tree1 that were not found in tree2: 400\n"
     ]
    }
   ],
   "source": [
    "from ete3 import Tree\n",
    "\n",
    "tree1_ete = Tree(t1)\n",
    "tree2_ete = Tree(t2)\n",
    "\n",
    "\n",
    "#results = tree1.compare(tree2,unrooted=True)\n",
    "#results\n",
    "\n",
    "rf, max_rf, common_leaves, parts_t1, parts_t2, discard_t1, discart_t2  = tree1_ete.robinson_foulds(tree2_ete,unrooted_trees=True)\n",
    "print(\"RF distance is %s over a total of %s\" %(rf, max_rf))\n",
    "print(\"Partitions in tree2 that were not found in tree1:\", len(parts_t1 - parts_t2))\n",
    "print(\"Partitions in tree1 that were not found in tree2:\", len(parts_t2 - parts_t1))"
   ]
  },
  {
   "cell_type": "code",
   "execution_count": 3,
   "id": "0716ae88",
   "metadata": {},
   "outputs": [
    {
     "name": "stdout",
     "output_type": "stream",
     "text": [
      "euclidean_distance: 5.02489224073134\n",
      "symmetric_difference: 786\n",
      "false_positives_and_negatives: (401, 385)\n",
      "robinson_foulds_distance: 114.71747431499992\n"
     ]
    }
   ],
   "source": [
    "import dendropy \n",
    "from dendropy import Tree \n",
    "from dendropy.calculate import treecompare\n",
    "\n",
    "tns = dendropy.TaxonNamespace()\n",
    "tree1 = Tree.get(path=t1,\n",
    "        schema=\"newick\",taxon_namespace=tns)#,case_sensitive_taxon_labels=True)\n",
    "tree2 = Tree.get(\n",
    "        path=t2,\n",
    "        schema=\"newick\",taxon_namespace=tns)#,case_sensitive_taxon_labels=True)\n",
    "\n",
    "#!!!! Problem with reading case insensitive leaf nodes !!!!\n",
    "#changed GZMA_Canis_lupus to GZMA_Canis_lupus_1: case_insensitvity \n",
    "\n",
    "tree1.encode_bipartitions()\n",
    "tree2.encode_bipartitions()\n",
    "\n",
    "print(\"euclidean_distance: \"+str(treecompare.euclidean_distance(tree1, tree2)))\n",
    "print(\"symmetric_difference: \"+str(treecompare.symmetric_difference(tree1, tree2)))\n",
    "print(\"false_positives_and_negatives: \"+str(treecompare.false_positives_and_negatives(tree1, tree2)))\n",
    "print(\"robinson_foulds_distance: \"+str(treecompare.robinson_foulds_distance(tree1, tree2)))"
   ]
  },
  {
   "cell_type": "markdown",
   "id": "c53e8fad",
   "metadata": {},
   "source": [
    "# Draw Tree with Circos"
   ]
  },
  {
   "cell_type": "code",
   "execution_count": 4,
   "id": "11d47a33",
   "metadata": {},
   "outputs": [
    {
     "ename": "ValueError",
     "evalue": "target 'GZMA_Canis_lupus' is not in this tree",
     "output_type": "error",
     "traceback": [
      "\u001b[1;31m---------------------------------------------------------------------------\u001b[0m",
      "\u001b[1;31mValueError\u001b[0m                                Traceback (most recent call last)",
      "Cell \u001b[1;32mIn[4], line 32\u001b[0m\n\u001b[0;32m     30\u001b[0m \u001b[38;5;66;03m# Plot tree\u001b[39;00m\n\u001b[0;32m     31\u001b[0m track \u001b[38;5;241m=\u001b[39m sector\u001b[38;5;241m.\u001b[39madd_track((\u001b[38;5;241m50\u001b[39m, \u001b[38;5;241m100\u001b[39m))\n\u001b[1;32m---> 32\u001b[0m \u001b[43mtrack\u001b[49m\u001b[38;5;241;43m.\u001b[39;49m\u001b[43mtree\u001b[49m\u001b[43m(\u001b[49m\u001b[43mtree\u001b[49m\u001b[43m,\u001b[49m\u001b[43mleaf_label_size\u001b[49m\u001b[38;5;241;43m=\u001b[39;49m\u001b[38;5;241;43m4\u001b[39;49m\u001b[43m,\u001b[49m\u001b[43m \u001b[49m\u001b[43mnode_color_list\u001b[49m\u001b[38;5;241;43m=\u001b[39;49m\u001b[43mlist_of_color\u001b[49m\u001b[43m)\u001b[49m\n\u001b[0;32m     34\u001b[0m fig \u001b[38;5;241m=\u001b[39m circos\u001b[38;5;241m.\u001b[39mplotfig()\n\u001b[0;32m     35\u001b[0m circos\u001b[38;5;241m.\u001b[39msavefig(\u001b[38;5;28mstr\u001b[39m(out_dir) \u001b[38;5;241m+\u001b[39m \u001b[38;5;124m\"\u001b[39m\u001b[38;5;124mKLK_prott5.png\u001b[39m\u001b[38;5;124m\"\u001b[39m, dpi\u001b[38;5;241m=\u001b[39m\u001b[38;5;241m300\u001b[39m)\n",
      "File \u001b[1;32m~\\anaconda3\\envs\\FP_Lightning\\lib\\site-packages\\pycirclize\\track.py:955\u001b[0m, in \u001b[0;36mTrack.tree\u001b[1;34m(self, treedata, format, outer, use_branch_length, leaf_label_size, innode_label_size, leaf_label_margin, label_formatter, node_color_list, line_kws, text_kws)\u001b[0m\n\u001b[0;32m    953\u001b[0m tree \u001b[38;5;241m=\u001b[39m utils\u001b[38;5;241m.\u001b[39mTreeUtil\u001b[38;5;241m.\u001b[39mload_tree(treedata, \u001b[38;5;28mformat\u001b[39m)\n\u001b[0;32m    954\u001b[0m tree \u001b[38;5;241m=\u001b[39m utils\u001b[38;5;241m.\u001b[39mTreeUtil\u001b[38;5;241m.\u001b[39mset_unique_node_name(tree)\n\u001b[1;32m--> 955\u001b[0m tree \u001b[38;5;241m=\u001b[39m \u001b[43mutils\u001b[49m\u001b[38;5;241;43m.\u001b[39;49m\u001b[43mTreeUtil\u001b[49m\u001b[38;5;241;43m.\u001b[39;49m\u001b[43mset_node_color\u001b[49m\u001b[43m(\u001b[49m\u001b[43mtree\u001b[49m\u001b[43m,\u001b[49m\u001b[43m \u001b[49m\u001b[43mnode_color_list\u001b[49m\u001b[43m)\u001b[49m\n\u001b[0;32m    956\u001b[0m utils\u001b[38;5;241m.\u001b[39mTreeUtil\u001b[38;5;241m.\u001b[39mcheck_node_name_dup(tree)\n\u001b[0;32m    957\u001b[0m \u001b[38;5;66;03m# If not `use_branch_length` or not branch length exists\u001b[39;00m\n\u001b[0;32m    958\u001b[0m \u001b[38;5;66;03m# Convert tree to ultrametric tree\u001b[39;00m\n",
      "File \u001b[1;32m~\\anaconda3\\envs\\FP_Lightning\\lib\\site-packages\\pycirclize\\utils\\tree.py:82\u001b[0m, in \u001b[0;36mTreeUtil.set_node_color\u001b[1;34m(tree, node_color_list)\u001b[0m\n\u001b[0;32m     80\u001b[0m mrca_node_name2color \u001b[38;5;241m=\u001b[39m {}\n\u001b[0;32m     81\u001b[0m \u001b[38;5;28;01mfor\u001b[39;00m nodes, color \u001b[38;5;129;01min\u001b[39;00m node_color_list:\n\u001b[1;32m---> 82\u001b[0m     mrca_node \u001b[38;5;241m=\u001b[39m \u001b[43mtree\u001b[49m\u001b[38;5;241;43m.\u001b[39;49m\u001b[43mcommon_ancestor\u001b[49m\u001b[43m(\u001b[49m\u001b[43mnodes\u001b[49m\u001b[43m)\u001b[49m\n\u001b[0;32m     83\u001b[0m     mrca_node_name2color[mrca_node\u001b[38;5;241m.\u001b[39mname] \u001b[38;5;241m=\u001b[39m color\n\u001b[0;32m     84\u001b[0m \u001b[38;5;66;03m# Set node color\u001b[39;00m\n",
      "File \u001b[1;32m~\\anaconda3\\envs\\FP_Lightning\\lib\\site-packages\\Bio\\Phylo\\BaseTree.py:443\u001b[0m, in \u001b[0;36mTreeMixin.common_ancestor\u001b[1;34m(self, targets, *more_targets)\u001b[0m\n\u001b[0;32m    441\u001b[0m \u001b[38;5;28;01mfor\u001b[39;00m p, t \u001b[38;5;129;01min\u001b[39;00m \u001b[38;5;28mzip\u001b[39m(paths, targets):\n\u001b[0;32m    442\u001b[0m     \u001b[38;5;28;01mif\u001b[39;00m p \u001b[38;5;129;01mis\u001b[39;00m \u001b[38;5;28;01mNone\u001b[39;00m:\n\u001b[1;32m--> 443\u001b[0m         \u001b[38;5;28;01mraise\u001b[39;00m \u001b[38;5;167;01mValueError\u001b[39;00m(\u001b[38;5;124mf\u001b[39m\u001b[38;5;124m\"\u001b[39m\u001b[38;5;124mtarget \u001b[39m\u001b[38;5;132;01m{\u001b[39;00mt\u001b[38;5;132;01m!r}\u001b[39;00m\u001b[38;5;124m is not in this tree\u001b[39m\u001b[38;5;124m\"\u001b[39m)\n\u001b[0;32m    444\u001b[0m mrca \u001b[38;5;241m=\u001b[39m \u001b[38;5;28mself\u001b[39m\u001b[38;5;241m.\u001b[39mroot\n\u001b[0;32m    445\u001b[0m \u001b[38;5;28;01mfor\u001b[39;00m level \u001b[38;5;129;01min\u001b[39;00m \u001b[38;5;28mzip\u001b[39m(\u001b[38;5;241m*\u001b[39mpaths):\n",
      "\u001b[1;31mValueError\u001b[0m: target 'GZMA_Canis_lupus' is not in this tree"
     ]
    }
   ],
   "source": [
    "from pycirclize import Circos\n",
    "from io import StringIO\n",
    "from Bio import Phylo\n",
    "import csv\n",
    "\n",
    "\n",
    "tree_in = t2\n",
    "\n",
    "#read color_file\n",
    "dict_color = {}\n",
    "with open(str(input) + \"iTOL.txt\") as csv_file:\n",
    "    for row in csv.reader(csv_file, delimiter='\\t'):\n",
    "        if len(row) > 1:\n",
    "            key = row[2]\n",
    "            if key in dict_color:\n",
    "                dict_color[key].append(row[0])\n",
    "            else:\n",
    "                dict_color[key] = [row[0]]\n",
    "                \n",
    "list_of_color = [(value,key) for key, value in dict_color.items()]                                    \n",
    "\n",
    "\n",
    "#create tree\n",
    "tree = Phylo.read(tree_in, \"newick\")\n",
    "\n",
    "# Initialize circos sector with tree size\n",
    "circos = Circos(sectors={\"Tree\": tree.count_terminals()})\n",
    "sector = circos.sectors[0]\n",
    "\n",
    "# Plot tree\n",
    "track = sector.add_track((50, 100))\n",
    "track.tree(tree,leaf_label_size=4, node_color_list=list_of_color)\n",
    "\n",
    "fig = circos.plotfig()\n",
    "circos.savefig(str(out_dir) + \"KLK_prott5.png\", dpi=300)"
   ]
  },
  {
   "cell_type": "markdown",
   "id": "0b36d376",
   "metadata": {},
   "source": [
    "# Format change"
   ]
  },
  {
   "cell_type": "markdown",
   "id": "3328a96d",
   "metadata": {},
   "source": [
    "# Convert h5 to npz"
   ]
  },
  {
   "cell_type": "code",
   "execution_count": null,
   "id": "65330aad",
   "metadata": {},
   "outputs": [],
   "source": [
    "h5_file = str(input) + \"KLK_prott5.h5\"\n",
    "prott5 = True\n",
    "\n",
    "#make numpy file with (seq header, embedding)\n",
    "esm2 = h5py.File(h5_file, 'r')\n",
    "list(esm2.keys())\n",
    "# List all groups\n",
    "keys = list(esm2.keys())\n",
    "#print(keys) \n",
    "# Get the data\n",
    "esm2values = []\n",
    "headers = []\n",
    "for key in keys:\n",
    "    #data\n",
    "    emb = esm2[key][:]\n",
    "    #value = np.array(esm2[key][:])\n",
    "    #print(value)\n",
    "    if prott5:\n",
    "        esm2values.append(emb[0])\n",
    "    else:    \n",
    "        esm2values.append(emb)\n",
    "    #headers\n",
    "    key = key.replace(\"isoform=\", \"isoform_\").replace(\"=\", \"\").replace(\":\", \"_\")\n",
    "    \n",
    "    #check case-sensitivity\n",
    "    if key.lower() in (item.lower() for item in headers):\n",
    "        print('The string is in list: '+key)\n",
    "        key = key+\"_01\"\n",
    "        print('New key: '+key)\n",
    "    \n",
    "    headers.append(key)\n",
    "\n",
    "#np.savez(\"/Users/adel.schmucklermann/Desktop/FoPra/KLK/KLK_prott5.npz\", headers=headers, embedding=esm2values)"
   ]
  },
  {
   "cell_type": "markdown",
   "id": "bd8d91d4",
   "metadata": {},
   "source": [
    "# Convert Nexus to Newick"
   ]
  },
  {
   "cell_type": "code",
   "execution_count": null,
   "id": "9fd9f15d",
   "metadata": {},
   "outputs": [],
   "source": [
    "import dendropy\n",
    "post_trees = dendropy.TreeList()\n",
    "post_trees.read(\n",
    "         file=open(str(out_dir) + \"KLK.nexus\", \"r\"),\n",
    "         schema=\"nexus\")\n",
    "post_trees.write(\n",
    "     path=str(out_dir) + \"KLK.newick\",schema=\"newick\")\n",
    "\n",
    "#changed GZMA_Canis_lupus to GZMA_Canis_lupus_1: case_insensitvity "
   ]
  }
 ],
 "metadata": {
  "kernelspec": {
   "display_name": "FP_Lightning",
   "language": "python",
   "name": "fp_lightning"
  },
  "language_info": {
   "codemirror_mode": {
    "name": "ipython",
    "version": 3
   },
   "file_extension": ".py",
   "mimetype": "text/x-python",
   "name": "python",
   "nbconvert_exporter": "python",
   "pygments_lexer": "ipython3",
   "version": "3.8.5"
  }
 },
 "nbformat": 4,
 "nbformat_minor": 5
}
