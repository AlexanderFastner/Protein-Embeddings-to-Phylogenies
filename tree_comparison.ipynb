{
 "cells": [
  {
   "cell_type": "markdown",
   "id": "60b9c2be",
   "metadata": {},
   "source": [
    "# Tree comparison"
   ]
  },
  {
   "cell_type": "markdown",
   "id": "7941ae7d",
   "metadata": {},
   "source": [
    "## case_insensitiv: changed GZMA_Canis_lupus to GZMA_Canis_lupus_1"
   ]
  },
  {
   "cell_type": "code",
   "execution_count": null,
   "id": "f8a7c906",
   "metadata": {},
   "outputs": [],
   "source": [
    "import os\n",
    "from ete3 import Tree as ete_tree\n",
    "import dendropy \n",
    "from dendropy import Tree as dendropy_tree\n",
    "from dendropy.calculate import treecompare"
   ]
  },
  {
   "cell_type": "code",
   "execution_count": 1,
   "id": "b89618c2",
   "metadata": {},
   "outputs": [],
   "source": [
    "out_dir = str(os.getcwd())+\"/out_dir/\"\n",
    "work_dir = str(os.getcwd())\n",
    "input = \"./inputs/\"\n",
    "\n",
    "t1 = str(out_dir) + \"KLK.newick\"\n",
    "t2 = str(out_dir) + \"KLK_esm2_upgma_499_ts_ss.newick\"\n",
    "\n",
    "#Todo: per directory\n"
   ]
  },
  {
   "cell_type": "code",
   "execution_count": 6,
   "id": "b6351e19",
   "metadata": {},
   "outputs": [
    {
     "name": "stdout",
     "output_type": "stream",
     "text": [
      "RF distance is 802 over a total of 850\n",
      "Partitions in tree2 that were not found in tree1: 392\n",
      "Partitions in tree1 that were not found in tree2: 410\n",
      "euclidean_distance: 18577.73996711137\n",
      "symmetric_difference: 806\n",
      "false_positives_and_negatives: (411, 395)\n",
      "robinson_foulds_distance: 21658.957622821003\n"
     ]
    }
   ],
   "source": [
    "#ETE\n",
    "tree1_ete = ete_tree(t1)\n",
    "tree2_ete = ete_tree(t2)\n",
    "\n",
    "\n",
    "#results = tree1.compare(tree2,unrooted=True)\n",
    "#results\n",
    "\n",
    "rf, max_rf, common_leaves, parts_t1, parts_t2, discard_t1, discart_t2  = tree1_ete.robinson_foulds(tree2_ete,unrooted_trees=True)\n",
    "print(\"RF distance is %s over a total of %s\" %(rf, max_rf))\n",
    "print(\"Partitions in tree2 that were not found in tree1:\", len(parts_t1 - parts_t2))\n",
    "print(\"Partitions in tree1 that were not found in tree2:\", len(parts_t2 - parts_t1))\n",
    "\n",
    "\n",
    "#Dendropy\n",
    "tns = dendropy.TaxonNamespace()\n",
    "tree1 = dendropy_tree.get(path=t1,\n",
    "        schema=\"newick\",taxon_namespace=tns)#,case_sensitive_taxon_labels=True)\n",
    "tree2 = dendropy_tree.get(\n",
    "        path=t2,\n",
    "        schema=\"newick\",taxon_namespace=tns)#,case_sensitive_taxon_labels=True)\n",
    "\n",
    "#!!!! Problem with reading case insensitive leaf nodes !!!!\n",
    "#changed GZMA_Canis_lupus to GZMA_Canis_lupus_1: case_insensitvity \n",
    "\n",
    "tree1.encode_bipartitions()\n",
    "tree2.encode_bipartitions()\n",
    "\n",
    "print(\"euclidean_distance: \"+str(treecompare.euclidean_distance(tree1, tree2)))\n",
    "print(\"symmetric_difference: \"+str(treecompare.symmetric_difference(tree1, tree2)))\n",
    "print(\"false_positives_and_negatives: \"+str(treecompare.false_positives_and_negatives(tree1, tree2)))\n",
    "print(\"robinson_foulds_distance: \"+str(treecompare.robinson_foulds_distance(tree1, tree2)))\n"
   ]
  },
  {
   "cell_type": "markdown",
   "id": "c53e8fad",
   "metadata": {},
   "source": [
    "# Draw Tree with Circos"
   ]
  },
  {
   "cell_type": "code",
   "execution_count": 4,
   "id": "11d47a33",
   "metadata": {},
   "outputs": [
    {
     "ename": "FileNotFoundError",
     "evalue": "[Errno 2] No such file or directory: './inputs/iTOL.txt'",
     "output_type": "error",
     "traceback": [
      "\u001b[0;31m---------------------------------------------------------------------------\u001b[0m",
      "\u001b[0;31mFileNotFoundError\u001b[0m                         Traceback (most recent call last)",
      "Cell \u001b[0;32mIn[4], line 11\u001b[0m\n\u001b[1;32m      9\u001b[0m \u001b[38;5;66;03m#read color_file\u001b[39;00m\n\u001b[1;32m     10\u001b[0m dict_color \u001b[38;5;241m=\u001b[39m {}\n\u001b[0;32m---> 11\u001b[0m \u001b[38;5;28;01mwith\u001b[39;00m \u001b[38;5;28;43mopen\u001b[39;49m\u001b[43m(\u001b[49m\u001b[38;5;28;43mstr\u001b[39;49m\u001b[43m(\u001b[49m\u001b[38;5;28;43minput\u001b[39;49m\u001b[43m)\u001b[49m\u001b[43m \u001b[49m\u001b[38;5;241;43m+\u001b[39;49m\u001b[43m \u001b[49m\u001b[38;5;124;43m\"\u001b[39;49m\u001b[38;5;124;43miTOL.txt\u001b[39;49m\u001b[38;5;124;43m\"\u001b[39;49m\u001b[43m)\u001b[49m \u001b[38;5;28;01mas\u001b[39;00m csv_file:\n\u001b[1;32m     12\u001b[0m     \u001b[38;5;28;01mfor\u001b[39;00m row \u001b[38;5;129;01min\u001b[39;00m csv\u001b[38;5;241m.\u001b[39mreader(csv_file, delimiter\u001b[38;5;241m=\u001b[39m\u001b[38;5;124m'\u001b[39m\u001b[38;5;130;01m\\t\u001b[39;00m\u001b[38;5;124m'\u001b[39m):\n\u001b[1;32m     13\u001b[0m         \u001b[38;5;28;01mif\u001b[39;00m \u001b[38;5;28mlen\u001b[39m(row) \u001b[38;5;241m>\u001b[39m \u001b[38;5;241m1\u001b[39m:\n",
      "File \u001b[0;32m~/miniconda3/envs/FP_lightning/lib/python3.8/site-packages/IPython/core/interactiveshell.py:284\u001b[0m, in \u001b[0;36m_modified_open\u001b[0;34m(file, *args, **kwargs)\u001b[0m\n\u001b[1;32m    277\u001b[0m \u001b[38;5;28;01mif\u001b[39;00m file \u001b[38;5;129;01min\u001b[39;00m {\u001b[38;5;241m0\u001b[39m, \u001b[38;5;241m1\u001b[39m, \u001b[38;5;241m2\u001b[39m}:\n\u001b[1;32m    278\u001b[0m     \u001b[38;5;28;01mraise\u001b[39;00m \u001b[38;5;167;01mValueError\u001b[39;00m(\n\u001b[1;32m    279\u001b[0m         \u001b[38;5;124mf\u001b[39m\u001b[38;5;124m\"\u001b[39m\u001b[38;5;124mIPython won\u001b[39m\u001b[38;5;124m'\u001b[39m\u001b[38;5;124mt let you open fd=\u001b[39m\u001b[38;5;132;01m{\u001b[39;00mfile\u001b[38;5;132;01m}\u001b[39;00m\u001b[38;5;124m by default \u001b[39m\u001b[38;5;124m\"\u001b[39m\n\u001b[1;32m    280\u001b[0m         \u001b[38;5;124m\"\u001b[39m\u001b[38;5;124mas it is likely to crash IPython. If you know what you are doing, \u001b[39m\u001b[38;5;124m\"\u001b[39m\n\u001b[1;32m    281\u001b[0m         \u001b[38;5;124m\"\u001b[39m\u001b[38;5;124myou can use builtins\u001b[39m\u001b[38;5;124m'\u001b[39m\u001b[38;5;124m open.\u001b[39m\u001b[38;5;124m\"\u001b[39m\n\u001b[1;32m    282\u001b[0m     )\n\u001b[0;32m--> 284\u001b[0m \u001b[38;5;28;01mreturn\u001b[39;00m \u001b[43mio_open\u001b[49m\u001b[43m(\u001b[49m\u001b[43mfile\u001b[49m\u001b[43m,\u001b[49m\u001b[43m \u001b[49m\u001b[38;5;241;43m*\u001b[39;49m\u001b[43margs\u001b[49m\u001b[43m,\u001b[49m\u001b[43m \u001b[49m\u001b[38;5;241;43m*\u001b[39;49m\u001b[38;5;241;43m*\u001b[39;49m\u001b[43mkwargs\u001b[49m\u001b[43m)\u001b[49m\n",
      "\u001b[0;31mFileNotFoundError\u001b[0m: [Errno 2] No such file or directory: './inputs/iTOL.txt'"
     ]
    }
   ],
   "source": [
    "from pycirclize import Circos\n",
    "from io import StringIO\n",
    "from Bio import Phylo\n",
    "import csv\n",
    "\n",
    "\n",
    "tree_in = t2\n",
    "\n",
    "#read color_file\n",
    "dict_color = {}\n",
    "with open(str(input) + \"iTOL.txt\") as csv_file:\n",
    "    for row in csv.reader(csv_file, delimiter='\\t'):\n",
    "        if len(row) > 1:\n",
    "            key = row[2]\n",
    "            if key in dict_color:\n",
    "                dict_color[key].append(row[0])\n",
    "            else:\n",
    "                dict_color[key] = [row[0]]\n",
    "                \n",
    "list_of_color = [(value,key) for key, value in dict_color.items()]                                    \n",
    "\n",
    "\n",
    "#create tree\n",
    "tree = Phylo.read(tree_in, \"newick\")\n",
    "\n",
    "# Initialize circos sector with tree size\n",
    "circos = Circos(sectors={\"Tree\": tree.count_terminals()})\n",
    "sector = circos.sectors[0]\n",
    "\n",
    "# Plot tree\n",
    "track = sector.add_track((50, 100))\n",
    "track.tree(tree,leaf_label_size=4, node_color_list=list_of_color)\n",
    "\n",
    "fig = circos.plotfig()\n",
    "circos.savefig(str(out_dir) + \"KLK_prott5.png\", dpi=300)"
   ]
  },
  {
   "cell_type": "markdown",
   "id": "0b36d376",
   "metadata": {},
   "source": [
    "# Format change"
   ]
  },
  {
   "cell_type": "markdown",
   "id": "3328a96d",
   "metadata": {},
   "source": [
    "# Convert h5 to npz"
   ]
  },
  {
   "cell_type": "code",
   "execution_count": null,
   "id": "65330aad",
   "metadata": {},
   "outputs": [],
   "source": [
    "h5_file = str(input) + \"KLK_prott5.h5\"\n",
    "prott5 = True\n",
    "\n",
    "#make numpy file with (seq header, embedding)\n",
    "esm2 = h5py.File(h5_file, 'r')\n",
    "list(esm2.keys())\n",
    "# List all groups\n",
    "keys = list(esm2.keys())\n",
    "#print(keys) \n",
    "# Get the data\n",
    "esm2values = []\n",
    "headers = []\n",
    "for key in keys:\n",
    "    #data\n",
    "    emb = esm2[key][:]\n",
    "    #value = np.array(esm2[key][:])\n",
    "    #print(value)\n",
    "    if prott5:\n",
    "        esm2values.append(emb[0])\n",
    "    else:    \n",
    "        esm2values.append(emb)\n",
    "    #headers\n",
    "    key = key.replace(\"isoform=\", \"isoform_\").replace(\"=\", \"\").replace(\":\", \"_\")\n",
    "    \n",
    "    #check case-sensitivity\n",
    "    if key.lower() in (item.lower() for item in headers):\n",
    "        print('The string is in list: '+key)\n",
    "        key = key+\"_01\"\n",
    "        print('New key: '+key)\n",
    "    \n",
    "    headers.append(key)\n",
    "\n",
    "#np.savez(\"/Users/adel.schmucklermann/Desktop/FoPra/KLK/KLK_prott5.npz\", headers=headers, embedding=esm2values)"
   ]
  },
  {
   "cell_type": "markdown",
   "id": "bd8d91d4",
   "metadata": {},
   "source": [
    "# Convert Nexus to Newick"
   ]
  },
  {
   "cell_type": "code",
   "execution_count": null,
   "id": "9fd9f15d",
   "metadata": {},
   "outputs": [],
   "source": [
    "import dendropy\n",
    "post_trees = dendropy.TreeList()\n",
    "post_trees.read(\n",
    "         file=open(str(out_dir) + \"KLK.nexus\", \"r\"),\n",
    "         schema=\"nexus\")\n",
    "post_trees.write(\n",
    "     path=str(out_dir) + \"KLK.newick\",schema=\"newick\")\n",
    "\n",
    "#changed GZMA_Canis_lupus to GZMA_Canis_lupus_1: case_insensitvity "
   ]
  }
 ],
 "metadata": {
  "kernelspec": {
   "display_name": "FP_Lightning",
   "language": "python",
   "name": "fp_lightning"
  },
  "language_info": {
   "codemirror_mode": {
    "name": "ipython",
    "version": 3
   },
   "file_extension": ".py",
   "mimetype": "text/x-python",
   "name": "python",
   "nbconvert_exporter": "python",
   "pygments_lexer": "ipython3",
   "version": "3.8.5"
  }
 },
 "nbformat": 4,
 "nbformat_minor": 5
}
