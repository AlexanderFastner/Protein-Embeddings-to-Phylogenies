{
 "cells": [
  {
   "cell_type": "code",
   "execution_count": 1,
   "id": "1f255478",
   "metadata": {},
   "outputs": [],
   "source": [
    "import pytorch_lightning as pl\n",
    "import h5py\n",
    "import os\n",
    "import torch\n",
    "import csv\n",
    "import re\n",
    "import numpy as np\n",
    "from torch import nn\n",
    "from torch.nn import functional as F\n",
    "from sklearn.model_selection import train_test_split\n",
    "from torch.utils.data import DataLoader\n",
    "import library as lib\n",
    "import pandas as pd\n",
    "from matplotlib.pylab import plt\n",
    "from sklearn.manifold import trustworthiness"
   ]
  },
  {
   "cell_type": "code",
   "execution_count": 2,
   "id": "eed87e60",
   "metadata": {},
   "outputs": [
    {
     "name": "stderr",
     "output_type": "stream",
     "text": [
      "Global seed set to 42\n"
     ]
    },
    {
     "data": {
      "text/plain": [
       "42"
      ]
     },
     "execution_count": 2,
     "metadata": {},
     "output_type": "execute_result"
    }
   ],
   "source": [
    "pl.seed_everything(42, workers=True) "
   ]
  },
  {
   "cell_type": "markdown",
   "id": "c592f639",
   "metadata": {},
   "source": [
    "# Parameters"
   ]
  },
  {
   "cell_type": "code",
   "execution_count": 3,
   "id": "9b4dd7eb",
   "metadata": {},
   "outputs": [],
   "source": [
    "work_dir = \"./\"\n",
    "inputs = \"./inputs/\"\n",
    "out_path = \"./out_dir/\"\n",
    "\n",
    "writer = False\n",
    "gpu = False\n",
    "\n",
    "epoch = 50\n",
    "\n",
    "dim = 2560\n",
    "dim3 = int(dim * 1/16)\n",
    "dim2 = int(dim * 1/8)\n",
    "dim1 = int(dim * 1/2)"
   ]
  },
  {
   "cell_type": "markdown",
   "id": "3cc4a98f",
   "metadata": {},
   "source": [
    "# Data Pre-Processing"
   ]
  },
  {
   "cell_type": "code",
   "execution_count": 4,
   "id": "2e74668b",
   "metadata": {
    "scrolled": true
   },
   "outputs": [
    {
     "name": "stdout",
     "output_type": "stream",
     "text": [
      "header is now changed\n",
      "total: (437,)\n",
      "training+validation: (393,)\n",
      "test: (44,)\n",
      "training: (314,)\n",
      "validation: (79,)\n",
      "314 314\n",
      "79 79\n"
     ]
    }
   ],
   "source": [
    "#make numpy file with (seq header, embedding)\n",
    "esm2 = h5py.File(inputs+\"KLK_esm2.h5\", 'r')\n",
    "list(esm2.keys())\n",
    "# List all groups\n",
    "keys = list(esm2.keys())\n",
    "#print(keys) \n",
    "# Get the data\n",
    "embedding = []\n",
    "headers = []\n",
    "for key in keys:\n",
    "    #data\n",
    "    emb = esm2[key][:]\n",
    "    embedding.append(emb)\n",
    "    #headers\n",
    "    key = key.replace(\"isoform=\", \"isoform_\").replace(\"=\", \"\").replace(\":\", \"_\")\n",
    "    if key == \"GZMA_Canis_lupus\":\n",
    "        print(\"header is now changed\")\n",
    "        key = \"GZMA_Canis_lupus_1\"\n",
    "    headers.append(key)\n",
    "\n",
    "headers = np.array(headers)\n",
    "embedding = np.array(embedding)\n",
    "\n",
    "#split train test\n",
    "headers_first, headers_test, embedding_first, embedding_test = train_test_split(headers, embedding, test_size=0.1, random_state=42)\n",
    "#split train validation\n",
    "headers_train, headers_validate, embedding_train, embedding_validate = train_test_split(headers_first, embedding_first, test_size =0.2, random_state=42)\n",
    "print(\"total:\", headers.shape)\n",
    "print(\"training+validation:\", headers_first.shape)\n",
    "print(\"test:\", headers_test.shape)\n",
    "print(\"training:\", headers_train.shape)\n",
    "print(\"validation:\", headers_validate.shape)\n",
    "print(len(headers_train), len(embedding_train))\n",
    "print(len(headers_validate), len(embedding_validate))\n",
    "\n",
    "#training_df = pd.DataFrame({'header': headers_train, 'embedding' : embedding_train})\n",
    "#validate_df = pd.DataFrame({'header': headers_validate, 'embedding' : embedding_validate})"
   ]
  },
  {
   "cell_type": "markdown",
   "id": "6cc1f1d6",
   "metadata": {},
   "source": [
    "# Dataloaders"
   ]
  },
  {
   "cell_type": "code",
   "execution_count": 5,
   "id": "66d14fcb",
   "metadata": {},
   "outputs": [],
   "source": [
    "train_dataset = lib.makedataset(headers_train, embedding_train)\n",
    "val_dataset = lib.makedataset(headers_validate, embedding_validate)\n",
    "\n",
    "train_dataloader = DataLoader(train_dataset, batch_size=64, shuffle=True, num_workers=0, drop_last=True)\n",
    "val_dataloader = DataLoader(val_dataset, batch_size=64, shuffle=False, num_workers=0, drop_last=True)\n",
    "    "
   ]
  },
  {
   "cell_type": "markdown",
   "id": "a52afc8f",
   "metadata": {},
   "source": [
    "# Training VAE"
   ]
  },
  {
   "cell_type": "code",
   "execution_count": 6,
   "id": "396aa8e2",
   "metadata": {
    "scrolled": true
   },
   "outputs": [
    {
     "name": "stderr",
     "output_type": "stream",
     "text": [
      "GPU available: False, used: False\n",
      "TPU available: False, using: 0 TPU cores\n",
      "IPU available: False, using: 0 IPUs\n",
      "HPU available: False, using: 0 HPUs\n",
      "\n",
      "  | Name    | Type       | Params\n",
      "---------------------------------------\n",
      "0 | encoder | Sequential | 3.7 M \n",
      "1 | latent  | Sequential | 26.1 K\n",
      "2 | fc21    | Linear     | 25.8 K\n",
      "3 | fc22    | Linear     | 25.8 K\n",
      "4 | fc3     | Sequential | 26.1 K\n",
      "5 | fc4     | Sequential | 26.1 K\n",
      "6 | relu    | ReLU       | 0     \n",
      "7 | decoder | Sequential | 3.8 M \n",
      "---------------------------------------\n",
      "7.6 M     Trainable params\n",
      "0         Non-trainable params\n",
      "7.6 M     Total params\n",
      "30.491    Total estimated model params size (MB)\n"
     ]
    },
    {
     "data": {
      "application/vnd.jupyter.widget-view+json": {
       "model_id": "",
       "version_major": 2,
       "version_minor": 0
      },
      "text/plain": [
       "Sanity Checking: 0it [00:00, ?it/s]"
      ]
     },
     "metadata": {},
     "output_type": "display_data"
    },
    {
     "name": "stderr",
     "output_type": "stream",
     "text": [
      "/Users/adel.schmucklermann/miniconda3/envs/chumby/lib/python3.8/site-packages/pytorch_lightning/trainer/connectors/data_connector.py:236: PossibleUserWarning: The dataloader, val_dataloader 0, does not have many workers which may be a bottleneck. Consider increasing the value of the `num_workers` argument` (try 4 which is the number of cpus on this machine) in the `DataLoader` init to improve performance.\n",
      "  rank_zero_warn(\n",
      "/Users/adel.schmucklermann/miniconda3/envs/chumby/lib/python3.8/site-packages/pytorch_lightning/utilities/data.py:98: UserWarning: Trying to infer the `batch_size` from an ambiguous collection. The batch size we found is 64. To avoid any miscalculations, use `self.log(..., batch_size=batch_size)`.\n",
      "  warning_cache.warn(\n",
      "/Users/adel.schmucklermann/miniconda3/envs/chumby/lib/python3.8/site-packages/pytorch_lightning/trainer/connectors/data_connector.py:236: PossibleUserWarning: The dataloader, train_dataloader, does not have many workers which may be a bottleneck. Consider increasing the value of the `num_workers` argument` (try 4 which is the number of cpus on this machine) in the `DataLoader` init to improve performance.\n",
      "  rank_zero_warn(\n"
     ]
    },
    {
     "data": {
      "application/vnd.jupyter.widget-view+json": {
       "model_id": "",
       "version_major": 2,
       "version_minor": 0
      },
      "text/plain": [
       "Training: 0it [00:00, ?it/s]"
      ]
     },
     "metadata": {},
     "output_type": "display_data"
    },
    {
     "name": "stderr",
     "output_type": "stream",
     "text": [
      "2023-04-13 17:12:09.535620: I tensorflow/core/platform/cpu_feature_guard.cc:193] This TensorFlow binary is optimized with oneAPI Deep Neural Network Library (oneDNN) to use the following CPU instructions in performance-critical operations:  AVX2 FMA\n",
      "To enable them in other operations, rebuild TensorFlow with the appropriate compiler flags.\n"
     ]
    },
    {
     "data": {
      "application/vnd.jupyter.widget-view+json": {
       "model_id": "",
       "version_major": 2,
       "version_minor": 0
      },
      "text/plain": [
       "Validation: 0it [00:00, ?it/s]"
      ]
     },
     "metadata": {},
     "output_type": "display_data"
    },
    {
     "data": {
      "application/vnd.jupyter.widget-view+json": {
       "model_id": "",
       "version_major": 2,
       "version_minor": 0
      },
      "text/plain": [
       "Validation: 0it [00:00, ?it/s]"
      ]
     },
     "metadata": {},
     "output_type": "display_data"
    },
    {
     "data": {
      "application/vnd.jupyter.widget-view+json": {
       "model_id": "",
       "version_major": 2,
       "version_minor": 0
      },
      "text/plain": [
       "Validation: 0it [00:00, ?it/s]"
      ]
     },
     "metadata": {},
     "output_type": "display_data"
    },
    {
     "data": {
      "application/vnd.jupyter.widget-view+json": {
       "model_id": "",
       "version_major": 2,
       "version_minor": 0
      },
      "text/plain": [
       "Validation: 0it [00:00, ?it/s]"
      ]
     },
     "metadata": {},
     "output_type": "display_data"
    },
    {
     "data": {
      "application/vnd.jupyter.widget-view+json": {
       "model_id": "",
       "version_major": 2,
       "version_minor": 0
      },
      "text/plain": [
       "Validation: 0it [00:00, ?it/s]"
      ]
     },
     "metadata": {},
     "output_type": "display_data"
    },
    {
     "data": {
      "application/vnd.jupyter.widget-view+json": {
       "model_id": "",
       "version_major": 2,
       "version_minor": 0
      },
      "text/plain": [
       "Validation: 0it [00:00, ?it/s]"
      ]
     },
     "metadata": {},
     "output_type": "display_data"
    },
    {
     "data": {
      "application/vnd.jupyter.widget-view+json": {
       "model_id": "",
       "version_major": 2,
       "version_minor": 0
      },
      "text/plain": [
       "Validation: 0it [00:00, ?it/s]"
      ]
     },
     "metadata": {},
     "output_type": "display_data"
    },
    {
     "data": {
      "application/vnd.jupyter.widget-view+json": {
       "model_id": "",
       "version_major": 2,
       "version_minor": 0
      },
      "text/plain": [
       "Validation: 0it [00:00, ?it/s]"
      ]
     },
     "metadata": {},
     "output_type": "display_data"
    },
    {
     "data": {
      "application/vnd.jupyter.widget-view+json": {
       "model_id": "",
       "version_major": 2,
       "version_minor": 0
      },
      "text/plain": [
       "Validation: 0it [00:00, ?it/s]"
      ]
     },
     "metadata": {},
     "output_type": "display_data"
    },
    {
     "data": {
      "application/vnd.jupyter.widget-view+json": {
       "model_id": "",
       "version_major": 2,
       "version_minor": 0
      },
      "text/plain": [
       "Validation: 0it [00:00, ?it/s]"
      ]
     },
     "metadata": {},
     "output_type": "display_data"
    },
    {
     "data": {
      "application/vnd.jupyter.widget-view+json": {
       "model_id": "",
       "version_major": 2,
       "version_minor": 0
      },
      "text/plain": [
       "Validation: 0it [00:00, ?it/s]"
      ]
     },
     "metadata": {},
     "output_type": "display_data"
    },
    {
     "data": {
      "application/vnd.jupyter.widget-view+json": {
       "model_id": "",
       "version_major": 2,
       "version_minor": 0
      },
      "text/plain": [
       "Validation: 0it [00:00, ?it/s]"
      ]
     },
     "metadata": {},
     "output_type": "display_data"
    },
    {
     "data": {
      "application/vnd.jupyter.widget-view+json": {
       "model_id": "",
       "version_major": 2,
       "version_minor": 0
      },
      "text/plain": [
       "Validation: 0it [00:00, ?it/s]"
      ]
     },
     "metadata": {},
     "output_type": "display_data"
    },
    {
     "data": {
      "application/vnd.jupyter.widget-view+json": {
       "model_id": "",
       "version_major": 2,
       "version_minor": 0
      },
      "text/plain": [
       "Validation: 0it [00:00, ?it/s]"
      ]
     },
     "metadata": {},
     "output_type": "display_data"
    },
    {
     "data": {
      "application/vnd.jupyter.widget-view+json": {
       "model_id": "",
       "version_major": 2,
       "version_minor": 0
      },
      "text/plain": [
       "Validation: 0it [00:00, ?it/s]"
      ]
     },
     "metadata": {},
     "output_type": "display_data"
    },
    {
     "data": {
      "application/vnd.jupyter.widget-view+json": {
       "model_id": "",
       "version_major": 2,
       "version_minor": 0
      },
      "text/plain": [
       "Validation: 0it [00:00, ?it/s]"
      ]
     },
     "metadata": {},
     "output_type": "display_data"
    },
    {
     "data": {
      "application/vnd.jupyter.widget-view+json": {
       "model_id": "",
       "version_major": 2,
       "version_minor": 0
      },
      "text/plain": [
       "Validation: 0it [00:00, ?it/s]"
      ]
     },
     "metadata": {},
     "output_type": "display_data"
    },
    {
     "data": {
      "application/vnd.jupyter.widget-view+json": {
       "model_id": "",
       "version_major": 2,
       "version_minor": 0
      },
      "text/plain": [
       "Validation: 0it [00:00, ?it/s]"
      ]
     },
     "metadata": {},
     "output_type": "display_data"
    },
    {
     "data": {
      "application/vnd.jupyter.widget-view+json": {
       "model_id": "",
       "version_major": 2,
       "version_minor": 0
      },
      "text/plain": [
       "Validation: 0it [00:00, ?it/s]"
      ]
     },
     "metadata": {},
     "output_type": "display_data"
    },
    {
     "data": {
      "application/vnd.jupyter.widget-view+json": {
       "model_id": "",
       "version_major": 2,
       "version_minor": 0
      },
      "text/plain": [
       "Validation: 0it [00:00, ?it/s]"
      ]
     },
     "metadata": {},
     "output_type": "display_data"
    },
    {
     "data": {
      "application/vnd.jupyter.widget-view+json": {
       "model_id": "",
       "version_major": 2,
       "version_minor": 0
      },
      "text/plain": [
       "Validation: 0it [00:00, ?it/s]"
      ]
     },
     "metadata": {},
     "output_type": "display_data"
    },
    {
     "data": {
      "application/vnd.jupyter.widget-view+json": {
       "model_id": "",
       "version_major": 2,
       "version_minor": 0
      },
      "text/plain": [
       "Validation: 0it [00:00, ?it/s]"
      ]
     },
     "metadata": {},
     "output_type": "display_data"
    },
    {
     "data": {
      "application/vnd.jupyter.widget-view+json": {
       "model_id": "",
       "version_major": 2,
       "version_minor": 0
      },
      "text/plain": [
       "Validation: 0it [00:00, ?it/s]"
      ]
     },
     "metadata": {},
     "output_type": "display_data"
    },
    {
     "data": {
      "application/vnd.jupyter.widget-view+json": {
       "model_id": "",
       "version_major": 2,
       "version_minor": 0
      },
      "text/plain": [
       "Validation: 0it [00:00, ?it/s]"
      ]
     },
     "metadata": {},
     "output_type": "display_data"
    },
    {
     "data": {
      "application/vnd.jupyter.widget-view+json": {
       "model_id": "",
       "version_major": 2,
       "version_minor": 0
      },
      "text/plain": [
       "Validation: 0it [00:00, ?it/s]"
      ]
     },
     "metadata": {},
     "output_type": "display_data"
    },
    {
     "data": {
      "application/vnd.jupyter.widget-view+json": {
       "model_id": "",
       "version_major": 2,
       "version_minor": 0
      },
      "text/plain": [
       "Validation: 0it [00:00, ?it/s]"
      ]
     },
     "metadata": {},
     "output_type": "display_data"
    },
    {
     "data": {
      "application/vnd.jupyter.widget-view+json": {
       "model_id": "",
       "version_major": 2,
       "version_minor": 0
      },
      "text/plain": [
       "Validation: 0it [00:00, ?it/s]"
      ]
     },
     "metadata": {},
     "output_type": "display_data"
    },
    {
     "data": {
      "application/vnd.jupyter.widget-view+json": {
       "model_id": "",
       "version_major": 2,
       "version_minor": 0
      },
      "text/plain": [
       "Validation: 0it [00:00, ?it/s]"
      ]
     },
     "metadata": {},
     "output_type": "display_data"
    },
    {
     "data": {
      "application/vnd.jupyter.widget-view+json": {
       "model_id": "",
       "version_major": 2,
       "version_minor": 0
      },
      "text/plain": [
       "Validation: 0it [00:00, ?it/s]"
      ]
     },
     "metadata": {},
     "output_type": "display_data"
    },
    {
     "data": {
      "application/vnd.jupyter.widget-view+json": {
       "model_id": "",
       "version_major": 2,
       "version_minor": 0
      },
      "text/plain": [
       "Validation: 0it [00:00, ?it/s]"
      ]
     },
     "metadata": {},
     "output_type": "display_data"
    },
    {
     "data": {
      "application/vnd.jupyter.widget-view+json": {
       "model_id": "",
       "version_major": 2,
       "version_minor": 0
      },
      "text/plain": [
       "Validation: 0it [00:00, ?it/s]"
      ]
     },
     "metadata": {},
     "output_type": "display_data"
    },
    {
     "data": {
      "application/vnd.jupyter.widget-view+json": {
       "model_id": "",
       "version_major": 2,
       "version_minor": 0
      },
      "text/plain": [
       "Validation: 0it [00:00, ?it/s]"
      ]
     },
     "metadata": {},
     "output_type": "display_data"
    },
    {
     "data": {
      "application/vnd.jupyter.widget-view+json": {
       "model_id": "",
       "version_major": 2,
       "version_minor": 0
      },
      "text/plain": [
       "Validation: 0it [00:00, ?it/s]"
      ]
     },
     "metadata": {},
     "output_type": "display_data"
    },
    {
     "data": {
      "application/vnd.jupyter.widget-view+json": {
       "model_id": "",
       "version_major": 2,
       "version_minor": 0
      },
      "text/plain": [
       "Validation: 0it [00:00, ?it/s]"
      ]
     },
     "metadata": {},
     "output_type": "display_data"
    },
    {
     "data": {
      "application/vnd.jupyter.widget-view+json": {
       "model_id": "",
       "version_major": 2,
       "version_minor": 0
      },
      "text/plain": [
       "Validation: 0it [00:00, ?it/s]"
      ]
     },
     "metadata": {},
     "output_type": "display_data"
    },
    {
     "data": {
      "application/vnd.jupyter.widget-view+json": {
       "model_id": "",
       "version_major": 2,
       "version_minor": 0
      },
      "text/plain": [
       "Validation: 0it [00:00, ?it/s]"
      ]
     },
     "metadata": {},
     "output_type": "display_data"
    },
    {
     "data": {
      "application/vnd.jupyter.widget-view+json": {
       "model_id": "",
       "version_major": 2,
       "version_minor": 0
      },
      "text/plain": [
       "Validation: 0it [00:00, ?it/s]"
      ]
     },
     "metadata": {},
     "output_type": "display_data"
    },
    {
     "data": {
      "application/vnd.jupyter.widget-view+json": {
       "model_id": "",
       "version_major": 2,
       "version_minor": 0
      },
      "text/plain": [
       "Validation: 0it [00:00, ?it/s]"
      ]
     },
     "metadata": {},
     "output_type": "display_data"
    },
    {
     "data": {
      "application/vnd.jupyter.widget-view+json": {
       "model_id": "",
       "version_major": 2,
       "version_minor": 0
      },
      "text/plain": [
       "Validation: 0it [00:00, ?it/s]"
      ]
     },
     "metadata": {},
     "output_type": "display_data"
    },
    {
     "data": {
      "application/vnd.jupyter.widget-view+json": {
       "model_id": "",
       "version_major": 2,
       "version_minor": 0
      },
      "text/plain": [
       "Validation: 0it [00:00, ?it/s]"
      ]
     },
     "metadata": {},
     "output_type": "display_data"
    },
    {
     "data": {
      "application/vnd.jupyter.widget-view+json": {
       "model_id": "",
       "version_major": 2,
       "version_minor": 0
      },
      "text/plain": [
       "Validation: 0it [00:00, ?it/s]"
      ]
     },
     "metadata": {},
     "output_type": "display_data"
    },
    {
     "data": {
      "application/vnd.jupyter.widget-view+json": {
       "model_id": "",
       "version_major": 2,
       "version_minor": 0
      },
      "text/plain": [
       "Validation: 0it [00:00, ?it/s]"
      ]
     },
     "metadata": {},
     "output_type": "display_data"
    },
    {
     "data": {
      "application/vnd.jupyter.widget-view+json": {
       "model_id": "",
       "version_major": 2,
       "version_minor": 0
      },
      "text/plain": [
       "Validation: 0it [00:00, ?it/s]"
      ]
     },
     "metadata": {},
     "output_type": "display_data"
    },
    {
     "data": {
      "application/vnd.jupyter.widget-view+json": {
       "model_id": "",
       "version_major": 2,
       "version_minor": 0
      },
      "text/plain": [
       "Validation: 0it [00:00, ?it/s]"
      ]
     },
     "metadata": {},
     "output_type": "display_data"
    },
    {
     "data": {
      "application/vnd.jupyter.widget-view+json": {
       "model_id": "",
       "version_major": 2,
       "version_minor": 0
      },
      "text/plain": [
       "Validation: 0it [00:00, ?it/s]"
      ]
     },
     "metadata": {},
     "output_type": "display_data"
    },
    {
     "data": {
      "application/vnd.jupyter.widget-view+json": {
       "model_id": "",
       "version_major": 2,
       "version_minor": 0
      },
      "text/plain": [
       "Validation: 0it [00:00, ?it/s]"
      ]
     },
     "metadata": {},
     "output_type": "display_data"
    },
    {
     "data": {
      "application/vnd.jupyter.widget-view+json": {
       "model_id": "",
       "version_major": 2,
       "version_minor": 0
      },
      "text/plain": [
       "Validation: 0it [00:00, ?it/s]"
      ]
     },
     "metadata": {},
     "output_type": "display_data"
    },
    {
     "data": {
      "application/vnd.jupyter.widget-view+json": {
       "model_id": "",
       "version_major": 2,
       "version_minor": 0
      },
      "text/plain": [
       "Validation: 0it [00:00, ?it/s]"
      ]
     },
     "metadata": {},
     "output_type": "display_data"
    },
    {
     "data": {
      "application/vnd.jupyter.widget-view+json": {
       "model_id": "",
       "version_major": 2,
       "version_minor": 0
      },
      "text/plain": [
       "Validation: 0it [00:00, ?it/s]"
      ]
     },
     "metadata": {},
     "output_type": "display_data"
    },
    {
     "data": {
      "application/vnd.jupyter.widget-view+json": {
       "model_id": "",
       "version_major": 2,
       "version_minor": 0
      },
      "text/plain": [
       "Validation: 0it [00:00, ?it/s]"
      ]
     },
     "metadata": {},
     "output_type": "display_data"
    },
    {
     "name": "stderr",
     "output_type": "stream",
     "text": [
      "`Trainer.fit` stopped: `max_epochs=50` reached.\n"
     ]
    }
   ],
   "source": [
    "#if prott5 used: dtype=float16 -> error with .linear()\n",
    "\n",
    "#encoder_layers, latent_dim, decoder_layers\n",
    "\n",
    "\n",
    "encoder_layers = [dim, dim1, dim2, dim3]\n",
    "latent_dim = dim3\n",
    "decoder_layers = [dim3, dim2, dim1, dim]\n",
    "\n",
    "# Initialize the VAE model\n",
    "vae = lib.VariationalAutoencoder(encoder_layers, latent_dim, decoder_layers)\n",
    "\n",
    "if gpu:\n",
    "    trainer = pl.Trainer(accelerator=\"gpu\", devices = 1, max_epochs=epoch, log_every_n_steps=4, check_val_every_n_epoch=1)\n",
    "else:\n",
    "    trainer = pl.Trainer(accelerator=\"auto\", max_epochs=epoch, log_every_n_steps=4, check_val_every_n_epoch=1)\n",
    "\n",
    "# Train the VAE model\n",
    "trainer.fit(vae, train_dataloader, val_dataloader)"
   ]
  },
  {
   "cell_type": "markdown",
   "id": "0cb159b5",
   "metadata": {},
   "source": [
    "# Fix Formatting"
   ]
  },
  {
   "cell_type": "code",
   "execution_count": 7,
   "id": "a759d8da",
   "metadata": {},
   "outputs": [
    {
     "ename": "FileNotFoundError",
     "evalue": "[Errno 2] No such file or directory: 'lightning_logs/version_80/metrics.csv'",
     "output_type": "error",
     "traceback": [
      "\u001b[0;31m---------------------------------------------------------------------------\u001b[0m",
      "\u001b[0;31mFileNotFoundError\u001b[0m                         Traceback (most recent call last)",
      "Cell \u001b[0;32mIn[7], line 15\u001b[0m\n\u001b[1;32m     12\u001b[0m largest_num \u001b[38;5;241m=\u001b[39m find_largest_number(\u001b[38;5;124m\"\u001b[39m\u001b[38;5;124m./lightning_logs\u001b[39m\u001b[38;5;124m\"\u001b[39m)\n\u001b[1;32m     14\u001b[0m \u001b[38;5;66;03m#Fix formatting\u001b[39;00m\n\u001b[0;32m---> 15\u001b[0m \u001b[38;5;28;01mwith\u001b[39;00m \u001b[38;5;28;43mopen\u001b[39;49m\u001b[43m(\u001b[49m\u001b[38;5;124;43m'\u001b[39;49m\u001b[38;5;124;43mlightning_logs/version_\u001b[39;49m\u001b[38;5;124;43m'\u001b[39;49m\u001b[43m \u001b[49m\u001b[38;5;241;43m+\u001b[39;49m\u001b[43m \u001b[49m\u001b[38;5;28;43mstr\u001b[39;49m\u001b[43m(\u001b[49m\u001b[43mlargest_num\u001b[49m\u001b[43m)\u001b[49m\u001b[43m \u001b[49m\u001b[38;5;241;43m+\u001b[39;49m\u001b[43m \u001b[49m\u001b[38;5;124;43m'\u001b[39;49m\u001b[38;5;124;43m/metrics.csv\u001b[39;49m\u001b[38;5;124;43m'\u001b[39;49m\u001b[43m,\u001b[49m\u001b[43m \u001b[49m\u001b[38;5;124;43m'\u001b[39;49m\u001b[38;5;124;43mr\u001b[39;49m\u001b[38;5;124;43m'\u001b[39;49m\u001b[43m)\u001b[49m \u001b[38;5;28;01mas\u001b[39;00m file:\n\u001b[1;32m     16\u001b[0m     reader \u001b[38;5;241m=\u001b[39m csv\u001b[38;5;241m.\u001b[39mreader(file)\n\u001b[1;32m     17\u001b[0m     rows \u001b[38;5;241m=\u001b[39m \u001b[38;5;28mlist\u001b[39m(reader)\n",
      "File \u001b[0;32m~/miniconda3/envs/chumby/lib/python3.8/site-packages/IPython/core/interactiveshell.py:282\u001b[0m, in \u001b[0;36m_modified_open\u001b[0;34m(file, *args, **kwargs)\u001b[0m\n\u001b[1;32m    275\u001b[0m \u001b[38;5;28;01mif\u001b[39;00m file \u001b[38;5;129;01min\u001b[39;00m {\u001b[38;5;241m0\u001b[39m, \u001b[38;5;241m1\u001b[39m, \u001b[38;5;241m2\u001b[39m}:\n\u001b[1;32m    276\u001b[0m     \u001b[38;5;28;01mraise\u001b[39;00m \u001b[38;5;167;01mValueError\u001b[39;00m(\n\u001b[1;32m    277\u001b[0m         \u001b[38;5;124mf\u001b[39m\u001b[38;5;124m\"\u001b[39m\u001b[38;5;124mIPython won\u001b[39m\u001b[38;5;124m'\u001b[39m\u001b[38;5;124mt let you open fd=\u001b[39m\u001b[38;5;132;01m{\u001b[39;00mfile\u001b[38;5;132;01m}\u001b[39;00m\u001b[38;5;124m by default \u001b[39m\u001b[38;5;124m\"\u001b[39m\n\u001b[1;32m    278\u001b[0m         \u001b[38;5;124m\"\u001b[39m\u001b[38;5;124mas it is likely to crash IPython. If you know what you are doing, \u001b[39m\u001b[38;5;124m\"\u001b[39m\n\u001b[1;32m    279\u001b[0m         \u001b[38;5;124m\"\u001b[39m\u001b[38;5;124myou can use builtins\u001b[39m\u001b[38;5;124m'\u001b[39m\u001b[38;5;124m open.\u001b[39m\u001b[38;5;124m\"\u001b[39m\n\u001b[1;32m    280\u001b[0m     )\n\u001b[0;32m--> 282\u001b[0m \u001b[38;5;28;01mreturn\u001b[39;00m \u001b[43mio_open\u001b[49m\u001b[43m(\u001b[49m\u001b[43mfile\u001b[49m\u001b[43m,\u001b[49m\u001b[43m \u001b[49m\u001b[38;5;241;43m*\u001b[39;49m\u001b[43margs\u001b[49m\u001b[43m,\u001b[49m\u001b[43m \u001b[49m\u001b[38;5;241;43m*\u001b[39;49m\u001b[38;5;241;43m*\u001b[39;49m\u001b[43mkwargs\u001b[49m\u001b[43m)\u001b[49m\n",
      "\u001b[0;31mFileNotFoundError\u001b[0m: [Errno 2] No such file or directory: 'lightning_logs/version_80/metrics.csv'"
     ]
    }
   ],
   "source": [
    "def find_largest_number(root_dir):\n",
    "    largest_number = 0\n",
    "    for subdir, dirs, files in os.walk(root_dir):\n",
    "        for dir_name in dirs:\n",
    "            match = re.search(r'\\d+', dir_name)\n",
    "            if match:\n",
    "                current_number = int(match.group())\n",
    "                if current_number > largest_number:\n",
    "                    largest_number = current_number\n",
    "    return largest_number\n",
    "\n",
    "largest_num = find_largest_number(\"./lightning_logs\")\n",
    "\n",
    "#Fix formatting\n",
    "with open('lightning_logs/version_' + str(largest_num) + '/metrics.csv', 'r') as file:\n",
    "    reader = csv.reader(file)\n",
    "    rows = list(reader)\n",
    "\n",
    "combined_rows = []\n",
    "header_row = ['train_loss','reconstruction_loss','kl_loss','epoch','step','validation_loss']\n",
    "\n",
    "combined_rows.append(header_row)\n",
    "for i in range(1, len(rows) -1, 2):\n",
    "    train_loss = rows[i][0]\n",
    "    reconstruction_loss = rows[i][1]\n",
    "    kl_loss = rows[i][2]\n",
    "    epoch = rows[i+1][3]\n",
    "    step = rows[i+1][4]\n",
    "    validation_loss = rows[i+1][5]\n",
    "    combined_rows.append([train_loss,reconstruction_loss,kl_loss,epoch,step,validation_loss])\n",
    "\n",
    "with open('lightning_logs/version_' + str(largest_num) + '/new_metrics.csv', 'w', newline = \"\") as file:\n",
    "    writer = csv.writer(file)\n",
    "    writer.writerows(combined_rows)"
   ]
  },
  {
   "cell_type": "markdown",
   "id": "5e06a7c9",
   "metadata": {},
   "source": [
    "# Plot Loss"
   ]
  },
  {
   "cell_type": "code",
   "execution_count": null,
   "id": "538fd4cf",
   "metadata": {},
   "outputs": [],
   "source": [
    "#Plot\n",
    "# read csv file\n",
    "df = pd.read_csv('lightning_logs/version_' + str(largest_num) + '/new_metrics.csv')\n",
    "\n",
    "df1 = df[df['epoch'] >= 100]\n",
    "\n",
    "# plot 0\n",
    "plt.plot('epoch', 'train_loss', data=df)\n",
    "plt.plot('epoch', 'reconstruction_loss', data=df)\n",
    "plt.plot('epoch', 'validation_loss', data=df)\n",
    "plt.title('Epoch vs Loss')\n",
    "plt.xlabel('Epoch')\n",
    "plt.ylabel('Loss')\n",
    "plt.legend(['loss', 'reconstruction loss', 'validation_loss'], loc='upper right')\n",
    "plt.show()\n",
    "\n",
    "\n",
    "# plot 1\n",
    "plt.plot('epoch', 'train_loss', data=df1)\n",
    "plt.plot('epoch', 'reconstruction_loss', data=df1)\n",
    "plt.plot('epoch', 'validation_loss', data=df1)\n",
    "plt.title('Epoch vs Loss')\n",
    "plt.xlabel('Epoch')\n",
    "plt.ylabel('Loss')\n",
    "plt.legend(['loss', 'reconstruction loss', 'validation_loss'], loc='upper right')\n",
    "plt.show()"
   ]
  },
  {
   "cell_type": "markdown",
   "id": "5e80f697",
   "metadata": {},
   "source": [
    "# Encode"
   ]
  },
  {
   "cell_type": "code",
   "execution_count": null,
   "id": "41b54263",
   "metadata": {
    "scrolled": false
   },
   "outputs": [],
   "source": [
    "encode = vae.encoder(torch.Tensor(embedding))\n",
    "#mu, logvar = vae.encode(torch.Tensor(embedding))\n",
    "#en = vae.reparameterize(mu, logvar)\n",
    "#encode = vae.decode(en)\n",
    "print(encode)\n",
    "\n",
    "#encode = encode #[1]\n"
   ]
  },
  {
   "cell_type": "markdown",
   "id": "1f0e01a0",
   "metadata": {},
   "source": [
    "# Neighbor_joining and create tree"
   ]
  },
  {
   "cell_type": "code",
   "execution_count": null,
   "id": "a485de57",
   "metadata": {},
   "outputs": [],
   "source": [
    "# Neighbor_joining and create tree\n",
    "\n",
    "#cosine, euclidean, manhattan, ts_ss, jensenshannon\n",
    "metric_list = [\"cosine\",\"euclidean\", \"manhattan\", \"ts_ss\"]\n",
    "\n",
    "for metric in metric_list:\n",
    "    out_newick = out_path+\"KLK_esm2_nj_\"+str(epoch)+\"_\"+metric+\".newick\"\n",
    "\n",
    "    embedding_out = encode.detach() #torch.stack(encode).detach() \n",
    "    #print(embedding_out)\n",
    "\n",
    "    #distance metric\n",
    "    dist = lib.distance_metric(embedding_out)\n",
    "    distmat = dist.get_metric(embedding_out, metric) \n",
    "    \n",
    "    #neighbor joining to tree\n",
    "    nj = lib.neighbor_joining(distmat,headers)\n",
    "    newick = nj.get_newick(distmat,headers)\n",
    "    \n",
    "    #trustworthiness\n",
    "    _distmat  = lib.cophenetic_distmat(newick, names=headers)\n",
    "    _trustworthiness = trustworthiness(distmat, _distmat, n_neighbors=10, metric='precomputed')\n",
    "    print(\"trustworthiness: \", _trustworthiness)\n",
    "    \n",
    "    \n",
    "    #silhouette = silhouette_score(_distmat, headers, metric='precomputed')\n",
    "    #silhouette = lib.silhouette.get_silhouette(distmat, headers)\n",
    "    #print(\"silhouette: \", silhouette)\n",
    "    \n",
    "\n",
    "    if writer:\n",
    "        with open(out_newick, 'w') as w:\n",
    "            w.write(newick)\n",
    "            w.close()"
   ]
  },
  {
   "cell_type": "markdown",
   "id": "3f3372da",
   "metadata": {},
   "source": [
    "# UPGMA and create tree"
   ]
  },
  {
   "cell_type": "code",
   "execution_count": null,
   "id": "8d9349fa",
   "metadata": {},
   "outputs": [],
   "source": [
    "#write output flag\n",
    "from sklearn.metrics import silhouette_score\n",
    "from itertools import groupby\n",
    "import string\n",
    "\n",
    "\n",
    "#cosine, euclidean, manhattan, ts_ss, jensenshannon\n",
    "metric_list = [\"cosine\",\"euclidean\", \"manhattan\", \"ts_ss\"]\n",
    "\n",
    "for metric in metric_list:\n",
    "    out_newick = out_path+\"KLK_esm2_upgma_\"+str(epoch)+\"_\"+metric+\".newick\"\n",
    "\n",
    "    embedding_out = encode.detach() #torch.stack(encode).detach() \n",
    "    #print(embedding_out)\n",
    "    \n",
    "    #distance metric\n",
    "    dist = lib.distance_metric(embedding_out)\n",
    "    distmat = dist.get_metric(embedding_out, metric)\n",
    "    #print(distmat)\n",
    "    \n",
    "    #upgma to tree\n",
    "    upgma = lib.upgma(distmat,headers)\n",
    "   \n",
    "    #trustworthiness\n",
    "    _distmat  = lib.cophenetic_distmat(upgma, names=headers)\n",
    "    _trustworthiness = trustworthiness(distmat, _distmat, n_neighbors=10, metric='precomputed')\n",
    "    print(\"trustworthiness: \", _trustworthiness)\n",
    "    \n",
    "    \n",
    "    if writer:\n",
    "        with open(out_newick, 'w') as w:\n",
    "            w.write(upgma)\n",
    "            w.close()"
   ]
  }
 ],
 "metadata": {
  "kernelspec": {
   "display_name": "chumby",
   "language": "python",
   "name": "chumby"
  },
  "language_info": {
   "codemirror_mode": {
    "name": "ipython",
    "version": 3
   },
   "file_extension": ".py",
   "mimetype": "text/x-python",
   "name": "python",
   "nbconvert_exporter": "python",
   "pygments_lexer": "ipython3",
   "version": "3.8.16"
  }
 },
 "nbformat": 4,
 "nbformat_minor": 5
}
