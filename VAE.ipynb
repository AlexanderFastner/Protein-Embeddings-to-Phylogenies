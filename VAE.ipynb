{
 "cells": [
  {
   "cell_type": "code",
   "execution_count": 1,
   "id": "399a360c",
   "metadata": {},
   "outputs": [
    {
     "name": "stdout",
     "output_type": "stream",
     "text": [
      "ln: library.py: File exists\r\n"
     ]
    }
   ],
   "source": [
    "!ln -s /Users/adel.schmucklermann/Desktop/FoPra/script/library.py library.py"
   ]
  },
  {
   "cell_type": "code",
   "execution_count": 2,
   "id": "1f255478",
   "metadata": {},
   "outputs": [],
   "source": [
    "import pytorch_lightning as pl\n",
    "import h5py\n",
    "import os\n",
    "import torch\n",
    "import numpy as np\n",
    "from torch import nn\n",
    "from torch.nn import functional as F\n",
    "from sklearn.model_selection import train_test_split\n",
    "from torch.utils.data import DataLoader\n",
    "import library as lib\n",
    "import pandas as pd"
   ]
  },
  {
   "cell_type": "code",
   "execution_count": 3,
   "id": "eed87e60",
   "metadata": {},
   "outputs": [
    {
     "name": "stderr",
     "output_type": "stream",
     "text": [
      "Global seed set to 42\n"
     ]
    },
    {
     "data": {
      "text/plain": [
       "42"
      ]
     },
     "execution_count": 3,
     "metadata": {},
     "output_type": "execute_result"
    }
   ],
   "source": [
    "pl.seed_everything(42, workers=True) "
   ]
  },
  {
   "cell_type": "markdown",
   "id": "3cc4a98f",
   "metadata": {},
   "source": [
    "# Data Pre-Processing"
   ]
  },
  {
   "cell_type": "code",
   "execution_count": 4,
   "id": "2e74668b",
   "metadata": {
    "scrolled": true
   },
   "outputs": [
    {
     "name": "stdout",
     "output_type": "stream",
     "text": [
      "header is now changed\n",
      "total: (437,)\n",
      "training+validation: (393,)\n",
      "test: (44,)\n",
      "training: (314,)\n",
      "validation: (79,)\n",
      "314 314\n",
      "79 79\n"
     ]
    }
   ],
   "source": [
    "#make numpy file with (seq header, embedding)\n",
    "esm2 = h5py.File(\"/Users/adel.schmucklermann/Desktop/FoPra/KLK/KLK_esm2.h5\", 'r')\n",
    "list(esm2.keys())\n",
    "# List all groups\n",
    "keys = list(esm2.keys())\n",
    "#print(keys) \n",
    "# Get the data\n",
    "embedding = []\n",
    "headers = []\n",
    "for key in keys:\n",
    "    #data\n",
    "    emb = esm2[key][:]\n",
    "    embedding.append(emb)\n",
    "    #headers\n",
    "    key = key.replace(\"isoform=\", \"isoform_\").replace(\"=\", \"\").replace(\":\", \"_\")\n",
    "    if key == \"GZMA_Canis_lupus\":\n",
    "        print(\"header is now changed\")\n",
    "        key = \"GZMA_Canis_lupus_1\"\n",
    "    headers.append(key)\n",
    "\n",
    "headers = np.array(headers)\n",
    "embedding = np.array(embedding)\n",
    "\n",
    "#split train test\n",
    "headers_first, headers_test, embedding_first, embedding_test = train_test_split(headers, embedding, test_size=0.1, random_state=42)\n",
    "#split train validation\n",
    "headers_train, headers_validate, embedding_train, embedding_validate = train_test_split(headers_first, embedding_first, test_size =0.2, random_state=42)\n",
    "print(\"total:\", headers.shape)\n",
    "print(\"training+validation:\", headers_first.shape)\n",
    "print(\"test:\", headers_test.shape)\n",
    "print(\"training:\", headers_train.shape)\n",
    "print(\"validation:\", headers_validate.shape)\n",
    "print(len(headers_train), len(embedding_train))\n",
    "print(len(headers_validate), len(embedding_validate))\n",
    "\n",
    "#training_df = pd.DataFrame({'header': headers_train, 'embedding' : embedding_train})\n",
    "#validate_df = pd.DataFrame({'header': headers_validate, 'embedding' : embedding_validate})"
   ]
  },
  {
   "cell_type": "markdown",
   "id": "6cc1f1d6",
   "metadata": {},
   "source": [
    "# Dataloaders"
   ]
  },
  {
   "cell_type": "code",
   "execution_count": 5,
   "id": "66d14fcb",
   "metadata": {},
   "outputs": [],
   "source": [
    "train_dataset = lib.makedataset(headers_train, embedding_train)\n",
    "val_dataset = lib.makedataset(headers_validate, embedding_validate)\n",
    "\n",
    "train_dataloader = DataLoader(train_dataset, batch_size=64, shuffle=True, num_workers=0, drop_last=True)\n",
    "val_dataloader = DataLoader(val_dataset, batch_size=64, shuffle=False, num_workers=0, drop_last=True)\n",
    "    "
   ]
  },
  {
   "cell_type": "markdown",
   "id": "a52afc8f",
   "metadata": {},
   "source": [
    "# Training VAE"
   ]
  },
  {
   "cell_type": "code",
   "execution_count": 6,
   "id": "396aa8e2",
   "metadata": {},
   "outputs": [
    {
     "name": "stderr",
     "output_type": "stream",
     "text": [
      "GPU available: False, used: False\n",
      "TPU available: False, using: 0 TPU cores\n",
      "IPU available: False, using: 0 IPUs\n",
      "HPU available: False, using: 0 HPUs\n",
      "\n",
      "  | Name    | Type       | Params\n",
      "---------------------------------------\n",
      "0 | encoder | Sequential | 3.7 M \n",
      "1 | latent  | Sequential | 26.1 K\n",
      "2 | fc21    | Linear     | 25.8 K\n",
      "3 | fc22    | Linear     | 25.8 K\n",
      "4 | fc3     | Sequential | 26.1 K\n",
      "5 | fc4     | Sequential | 26.1 K\n",
      "6 | relu    | ReLU       | 0     \n",
      "7 | decoder | Sequential | 3.8 M \n",
      "---------------------------------------\n",
      "7.6 M     Trainable params\n",
      "0         Non-trainable params\n",
      "7.6 M     Total params\n",
      "30.491    Total estimated model params size (MB)\n"
     ]
    },
    {
     "data": {
      "application/vnd.jupyter.widget-view+json": {
       "model_id": "",
       "version_major": 2,
       "version_minor": 0
      },
      "text/plain": [
       "Sanity Checking: 0it [00:00, ?it/s]"
      ]
     },
     "metadata": {},
     "output_type": "display_data"
    },
    {
     "name": "stderr",
     "output_type": "stream",
     "text": [
      "/Users/adel.schmucklermann/miniconda3/envs/chumby/lib/python3.8/site-packages/pytorch_lightning/trainer/connectors/data_connector.py:236: PossibleUserWarning: The dataloader, val_dataloader 0, does not have many workers which may be a bottleneck. Consider increasing the value of the `num_workers` argument` (try 4 which is the number of cpus on this machine) in the `DataLoader` init to improve performance.\n",
      "  rank_zero_warn(\n",
      "/Users/adel.schmucklermann/miniconda3/envs/chumby/lib/python3.8/site-packages/pytorch_lightning/utilities/data.py:98: UserWarning: Trying to infer the `batch_size` from an ambiguous collection. The batch size we found is 64. To avoid any miscalculations, use `self.log(..., batch_size=batch_size)`.\n",
      "  warning_cache.warn(\n",
      "/Users/adel.schmucklermann/miniconda3/envs/chumby/lib/python3.8/site-packages/pytorch_lightning/trainer/connectors/data_connector.py:236: PossibleUserWarning: The dataloader, train_dataloader, does not have many workers which may be a bottleneck. Consider increasing the value of the `num_workers` argument` (try 4 which is the number of cpus on this machine) in the `DataLoader` init to improve performance.\n",
      "  rank_zero_warn(\n",
      "/Users/adel.schmucklermann/miniconda3/envs/chumby/lib/python3.8/site-packages/pytorch_lightning/trainer/trainer.py:1892: PossibleUserWarning: The number of training batches (4) is smaller than the logging interval Trainer(log_every_n_steps=50). Set a lower value for log_every_n_steps if you want to see logs for the training epoch.\n",
      "  rank_zero_warn(\n"
     ]
    },
    {
     "data": {
      "application/vnd.jupyter.widget-view+json": {
       "model_id": "aaf28a978d7a4130b59bbd3240768c7e",
       "version_major": 2,
       "version_minor": 0
      },
      "text/plain": [
       "Training: 0it [00:00, ?it/s]"
      ]
     },
     "metadata": {},
     "output_type": "display_data"
    },
    {
     "data": {
      "application/vnd.jupyter.widget-view+json": {
       "model_id": "",
       "version_major": 2,
       "version_minor": 0
      },
      "text/plain": [
       "Validation: 0it [00:00, ?it/s]"
      ]
     },
     "metadata": {},
     "output_type": "display_data"
    },
    {
     "name": "stderr",
     "output_type": "stream",
     "text": [
      "2023-04-06 12:13:26.739513: I tensorflow/core/platform/cpu_feature_guard.cc:193] This TensorFlow binary is optimized with oneAPI Deep Neural Network Library (oneDNN) to use the following CPU instructions in performance-critical operations:  AVX2 FMA\n",
      "To enable them in other operations, rebuild TensorFlow with the appropriate compiler flags.\n"
     ]
    },
    {
     "data": {
      "application/vnd.jupyter.widget-view+json": {
       "model_id": "",
       "version_major": 2,
       "version_minor": 0
      },
      "text/plain": [
       "Validation: 0it [00:00, ?it/s]"
      ]
     },
     "metadata": {},
     "output_type": "display_data"
    },
    {
     "data": {
      "application/vnd.jupyter.widget-view+json": {
       "model_id": "",
       "version_major": 2,
       "version_minor": 0
      },
      "text/plain": [
       "Validation: 0it [00:00, ?it/s]"
      ]
     },
     "metadata": {},
     "output_type": "display_data"
    },
    {
     "data": {
      "application/vnd.jupyter.widget-view+json": {
       "model_id": "",
       "version_major": 2,
       "version_minor": 0
      },
      "text/plain": [
       "Validation: 0it [00:00, ?it/s]"
      ]
     },
     "metadata": {},
     "output_type": "display_data"
    },
    {
     "data": {
      "application/vnd.jupyter.widget-view+json": {
       "model_id": "",
       "version_major": 2,
       "version_minor": 0
      },
      "text/plain": [
       "Validation: 0it [00:00, ?it/s]"
      ]
     },
     "metadata": {},
     "output_type": "display_data"
    },
    {
     "data": {
      "application/vnd.jupyter.widget-view+json": {
       "model_id": "",
       "version_major": 2,
       "version_minor": 0
      },
      "text/plain": [
       "Validation: 0it [00:00, ?it/s]"
      ]
     },
     "metadata": {},
     "output_type": "display_data"
    },
    {
     "data": {
      "application/vnd.jupyter.widget-view+json": {
       "model_id": "",
       "version_major": 2,
       "version_minor": 0
      },
      "text/plain": [
       "Validation: 0it [00:00, ?it/s]"
      ]
     },
     "metadata": {},
     "output_type": "display_data"
    },
    {
     "data": {
      "application/vnd.jupyter.widget-view+json": {
       "model_id": "",
       "version_major": 2,
       "version_minor": 0
      },
      "text/plain": [
       "Validation: 0it [00:00, ?it/s]"
      ]
     },
     "metadata": {},
     "output_type": "display_data"
    },
    {
     "data": {
      "application/vnd.jupyter.widget-view+json": {
       "model_id": "",
       "version_major": 2,
       "version_minor": 0
      },
      "text/plain": [
       "Validation: 0it [00:00, ?it/s]"
      ]
     },
     "metadata": {},
     "output_type": "display_data"
    },
    {
     "data": {
      "application/vnd.jupyter.widget-view+json": {
       "model_id": "",
       "version_major": 2,
       "version_minor": 0
      },
      "text/plain": [
       "Validation: 0it [00:00, ?it/s]"
      ]
     },
     "metadata": {},
     "output_type": "display_data"
    },
    {
     "name": "stderr",
     "output_type": "stream",
     "text": [
      "`Trainer.fit` stopped: `max_epochs=10` reached.\n"
     ]
    }
   ],
   "source": [
    "#if prott5 used: dtype=float16 -> error with .linear()\n",
    "\n",
    "#encoder_layers, latent_dim, decoder_layers\n",
    "dim = 2560\n",
    "a = int(dim * 1/16)\n",
    "b = int(dim * 1/8)\n",
    "c = int(dim * 1/2)\n",
    "encoder_layers = [dim, c, b, a]\n",
    "latent_dim = a\n",
    "decoder_layers = [a, b, c, dim]\n",
    "\n",
    "# Initialize the VAE model\n",
    "vae = lib.VariationalAutoencoder(encoder_layers, latent_dim, decoder_layers)\n",
    "\n",
    "trainer = pl.Trainer(accelerator=\"auto\", max_epochs=10, check_val_every_n_epoch=1)\n",
    "#trainer = pl.Trainer(accelerator=\"gpu\", devices = 1, max_epochs=500, check_val_every_n_epoch=1)\n",
    "\n",
    "# Train the VAE model\n",
    "trainer.fit(vae, train_dataloader, val_dataloader)"
   ]
  },
  {
   "cell_type": "markdown",
   "id": "0cb159b5",
   "metadata": {},
   "source": [
    "# Validation"
   ]
  },
  {
   "cell_type": "code",
   "execution_count": 7,
   "id": "a759d8da",
   "metadata": {},
   "outputs": [
    {
     "data": {
      "application/vnd.jupyter.widget-view+json": {
       "model_id": "b7e03c7a4e1c4d2588eb56f45dfd6252",
       "version_major": 2,
       "version_minor": 0
      },
      "text/plain": [
       "Validation: 0it [00:00, ?it/s]"
      ]
     },
     "metadata": {},
     "output_type": "display_data"
    },
    {
     "data": {
      "text/html": [
       "<pre style=\"white-space:pre;overflow-x:auto;line-height:normal;font-family:Menlo,'DejaVu Sans Mono',consolas,'Courier New',monospace\">┏━━━━━━━━━━━━━━━━━━━━━━━━━━━┳━━━━━━━━━━━━━━━━━━━━━━━━━━━┓\n",
       "┃<span style=\"font-weight: bold\">      Validate metric      </span>┃<span style=\"font-weight: bold\">       DataLoader 0        </span>┃\n",
       "┡━━━━━━━━━━━━━━━━━━━━━━━━━━━╇━━━━━━━━━━━━━━━━━━━━━━━━━━━┩\n",
       "│<span style=\"color: #008080; text-decoration-color: #008080\">      validation_loss      </span>│<span style=\"color: #800080; text-decoration-color: #800080\">    11.575919151306152     </span>│\n",
       "└───────────────────────────┴───────────────────────────┘\n",
       "</pre>\n"
      ],
      "text/plain": [
       "┏━━━━━━━━━━━━━━━━━━━━━━━━━━━┳━━━━━━━━━━━━━━━━━━━━━━━━━━━┓\n",
       "┃\u001b[1m \u001b[0m\u001b[1m     Validate metric     \u001b[0m\u001b[1m \u001b[0m┃\u001b[1m \u001b[0m\u001b[1m      DataLoader 0       \u001b[0m\u001b[1m \u001b[0m┃\n",
       "┡━━━━━━━━━━━━━━━━━━━━━━━━━━━╇━━━━━━━━━━━━━━━━━━━━━━━━━━━┩\n",
       "│\u001b[36m \u001b[0m\u001b[36m     validation_loss     \u001b[0m\u001b[36m \u001b[0m│\u001b[35m \u001b[0m\u001b[35m   11.575919151306152    \u001b[0m\u001b[35m \u001b[0m│\n",
       "└───────────────────────────┴───────────────────────────┘\n"
      ]
     },
     "metadata": {},
     "output_type": "display_data"
    },
    {
     "data": {
      "text/plain": [
       "[{'validation_loss': 11.575919151306152}]"
      ]
     },
     "execution_count": 7,
     "metadata": {},
     "output_type": "execute_result"
    }
   ],
   "source": [
    "trainer.validate(vae, val_dataloader)"
   ]
  },
  {
   "cell_type": "markdown",
   "id": "5e80f697",
   "metadata": {},
   "source": [
    "# Encode"
   ]
  },
  {
   "cell_type": "code",
   "execution_count": 8,
   "id": "41b54263",
   "metadata": {
    "scrolled": false
   },
   "outputs": [
    {
     "name": "stdout",
     "output_type": "stream",
     "text": [
      "tensor([[ 0.5870,  0.8261, -0.0090,  ...,  0.3287, -1.4833,  0.4336],\n",
      "        [ 0.5968,  0.3627,  0.3526,  ...,  0.7116, -0.3656,  0.3228],\n",
      "        [-0.1853, -0.1816, -0.1976,  ..., -0.5695,  0.1777, -0.7030],\n",
      "        ...,\n",
      "        [-1.0772,  1.2970, -0.3692,  ...,  0.4776,  0.6877,  0.5839],\n",
      "        [-0.5280,  0.3657, -1.4455,  ...,  1.1855, -0.2221, -0.5348],\n",
      "        [-0.0786, -0.8517, -0.8846,  ..., -0.9674,  0.0628, -0.5905]],\n",
      "       grad_fn=<NativeBatchNormBackward0>)\n"
     ]
    }
   ],
   "source": [
    "#encode = vae.encoder(torch.Tensor(embedding))\n",
    "mu, logvar = vae.encode(torch.Tensor(embedding))\n",
    "en = vae.reparameterize(mu, logvar)\n",
    "encode = vae.decode(en)\n",
    "print(encode)\n",
    "\n",
    "#encode = encode #[1]\n"
   ]
  },
  {
   "cell_type": "markdown",
   "id": "1f0e01a0",
   "metadata": {},
   "source": [
    "# Neighbor_joining and create tree"
   ]
  },
  {
   "cell_type": "code",
   "execution_count": 9,
   "id": "f2dae5b9",
   "metadata": {},
   "outputs": [],
   "source": [
    "import treeswift\n",
    "\n",
    "def cophenetic_distmat(tree, names):\n",
    "    \"\"\"\n",
    "    Calculates the all-versus-all distance matrix of a tree based on the\n",
    "    cophenetic distances.\n",
    "    \n",
    "    Parameters\n",
    "    ----------\n",
    "    tree : str\n",
    "        a newick-formatted tree\n",
    "    names : list of str\n",
    "        a list of names contained within the tree. the order of the names provided\n",
    "        in the list will be used to determine the order of the output.\n",
    "    \n",
    "    Returns\n",
    "    -------\n",
    "    cophmat : np.ndarray\n",
    "        a square, symmetrical distance matrix\n",
    "    \"\"\"\n",
    "    tree = treeswift.read_tree_newick(tree) if type(tree) is str else tree\n",
    "    cophdic = tree.distance_matrix()\n",
    "    node2name = {i:i.get_label() for i in cophdic.keys()}\n",
    "    unique_names = set(node2name.values())\n",
    "    assert len(node2name)==len(set(node2name))\n",
    "    cophdic = {node2name[k1]:{node2name[k2]:cophdic[k1][k2] for k2 in cophdic[k1]} for k1 in cophdic.keys()}\n",
    "    assert all(i in unique_names for i in names)\n",
    "    cophmat = np.zeros([len(names)]*2)\n",
    "    for ni, i in enumerate(names):\n",
    "        for nj, j in enumerate(names[:ni]):\n",
    "            cophmat[ni][nj] = cophmat[nj][ni] = cophdic[i][j]\n",
    "    return cophmat"
   ]
  },
  {
   "cell_type": "code",
   "execution_count": 10,
   "id": "a485de57",
   "metadata": {},
   "outputs": [
    {
     "name": "stdout",
     "output_type": "stream",
     "text": [
      "tensor([[ 0.5870,  0.8261, -0.0090,  ...,  0.3287, -1.4833,  0.4336],\n",
      "        [ 0.5968,  0.3627,  0.3526,  ...,  0.7116, -0.3656,  0.3228],\n",
      "        [-0.1853, -0.1816, -0.1976,  ..., -0.5695,  0.1777, -0.7030],\n",
      "        ...,\n",
      "        [-1.0772,  1.2970, -0.3692,  ...,  0.4776,  0.6877,  0.5839],\n",
      "        [-0.5280,  0.3657, -1.4455,  ...,  1.1855, -0.2221, -0.5348],\n",
      "        [-0.0786, -0.8517, -0.8846,  ..., -0.9674,  0.0628, -0.5905]])\n",
      "0.9230860688779042\n",
      "tensor([[ 0.5870,  0.8261, -0.0090,  ...,  0.3287, -1.4833,  0.4336],\n",
      "        [ 0.5968,  0.3627,  0.3526,  ...,  0.7116, -0.3656,  0.3228],\n",
      "        [-0.1853, -0.1816, -0.1976,  ..., -0.5695,  0.1777, -0.7030],\n",
      "        ...,\n",
      "        [-1.0772,  1.2970, -0.3692,  ...,  0.4776,  0.6877,  0.5839],\n",
      "        [-0.5280,  0.3657, -1.4455,  ...,  1.1855, -0.2221, -0.5348],\n",
      "        [-0.0786, -0.8517, -0.8846,  ..., -0.9674,  0.0628, -0.5905]])\n",
      "0.9365022489691659\n",
      "tensor([[ 0.5870,  0.8261, -0.0090,  ...,  0.3287, -1.4833,  0.4336],\n",
      "        [ 0.5968,  0.3627,  0.3526,  ...,  0.7116, -0.3656,  0.3228],\n",
      "        [-0.1853, -0.1816, -0.1976,  ..., -0.5695,  0.1777, -0.7030],\n",
      "        ...,\n",
      "        [-1.0772,  1.2970, -0.3692,  ...,  0.4776,  0.6877,  0.5839],\n",
      "        [-0.5280,  0.3657, -1.4455,  ...,  1.1855, -0.2221, -0.5348],\n",
      "        [-0.0786, -0.8517, -0.8846,  ..., -0.9674,  0.0628, -0.5905]])\n",
      "0.9475274911710655\n",
      "tensor([[ 0.5870,  0.8261, -0.0090,  ...,  0.3287, -1.4833,  0.4336],\n",
      "        [ 0.5968,  0.3627,  0.3526,  ...,  0.7116, -0.3656,  0.3228],\n",
      "        [-0.1853, -0.1816, -0.1976,  ..., -0.5695,  0.1777, -0.7030],\n",
      "        ...,\n",
      "        [-1.0772,  1.2970, -0.3692,  ...,  0.4776,  0.6877,  0.5839],\n",
      "        [-0.5280,  0.3657, -1.4455,  ...,  1.1855, -0.2221, -0.5348],\n",
      "        [-0.0786, -0.8517, -0.8846,  ..., -0.9674,  0.0628, -0.5905]])\n",
      "0.9257946041027061\n"
     ]
    }
   ],
   "source": [
    "# Neighbor_joining and create tree\n",
    "\n",
    "from sklearn.manifold import trustworthiness\n",
    "\n",
    "#write output flag\n",
    "writer = False\n",
    "\n",
    "#epochs\n",
    "epoch = 100\n",
    "\n",
    "#cosine, euclidean, manhattan, ts_ss, jensenshannon\n",
    "metric_list = [\"cosine\",\"euclidean\", \"manhattan\", \"ts_ss\"]\n",
    "\n",
    "for metric in metric_list:\n",
    "    out_newick = \"/Users/adel.schmucklermann/Desktop/FoPra/KLK/KLK_esm2_decoder_\"+str(epoch)+\"_\"+metric+\".newick\"\n",
    "\n",
    "    embedding_out = encode.detach() #torch.stack(encode).detach() \n",
    "    print(embedding_out)\n",
    "\n",
    "    #distance metric\n",
    "    dist = lib.distance_metric(embedding_out)\n",
    "    distmat = dist.get_metric(embedding_out, metric) \n",
    "    \n",
    "    #neighbor joining to tree\n",
    "    nj = lib.neighbor_joining(distmat,headers)\n",
    "    newick = nj.get_newick(distmat,headers)\n",
    "    \n",
    "    #trustworthiness\n",
    "    _distmat  = cophenetic_distmat(newick, names=headers)\n",
    "    _trustworthiness = trustworthiness(distmat, _distmat, n_neighbors=10, metric='precomputed')\n",
    "    print( _trustworthiness)\n",
    "    \n",
    "    \n",
    "    #silhouette = silhouette_score(_distmat, headers, metric='precomputed')\n",
    "    #silhouette = lib.silhouette.get_silhouette(distmat, headers)\n",
    "    #print(\"silhouette: \", silhouette)\n",
    "    \n",
    "\n",
    "    if writer:\n",
    "        with open(out_newick, 'w') as w:\n",
    "            w.write(newick)\n",
    "            w.close()"
   ]
  },
  {
   "cell_type": "markdown",
   "id": "3f3372da",
   "metadata": {},
   "source": [
    "# UPGMA and create tree"
   ]
  },
  {
   "cell_type": "code",
   "execution_count": 11,
   "id": "8d9349fa",
   "metadata": {},
   "outputs": [
    {
     "name": "stdout",
     "output_type": "stream",
     "text": [
      "tensor([[ 0.5870,  0.8261, -0.0090,  ...,  0.3287, -1.4833,  0.4336],\n",
      "        [ 0.5968,  0.3627,  0.3526,  ...,  0.7116, -0.3656,  0.3228],\n",
      "        [-0.1853, -0.1816, -0.1976,  ..., -0.5695,  0.1777, -0.7030],\n",
      "        ...,\n",
      "        [-1.0772,  1.2970, -0.3692,  ...,  0.4776,  0.6877,  0.5839],\n",
      "        [-0.5280,  0.3657, -1.4455,  ...,  1.1855, -0.2221, -0.5348],\n",
      "        [-0.0786, -0.8517, -0.8846,  ..., -0.9674,  0.0628, -0.5905]])\n",
      "[[0.00000000e+00 4.59492940e-01 1.42876421e+00 ... 6.32918267e-01\n",
      "  1.29523566e+00 1.58840566e+00]\n",
      " [4.59492940e-01 0.00000000e+00 1.25490435e+00 ... 3.16952268e-01\n",
      "  1.05561848e+00 1.51465479e+00]\n",
      " [1.42876421e+00 1.25490435e+00 2.22044605e-16 ... 1.16745412e+00\n",
      "  5.93206591e-01 5.65968441e-01]\n",
      " ...\n",
      " [6.32918267e-01 3.16952268e-01 1.16745412e+00 ... 0.00000000e+00\n",
      "  8.51750893e-01 1.54468634e+00]\n",
      " [1.29523566e+00 1.05561848e+00 5.93206591e-01 ... 8.51750893e-01\n",
      "  0.00000000e+00 7.28573616e-01]\n",
      " [1.58840566e+00 1.51465479e+00 5.65968441e-01 ... 1.54468634e+00\n",
      "  7.28573616e-01 0.00000000e+00]]\n"
     ]
    },
    {
     "ename": "NameError",
     "evalue": "name 'to_newick' is not defined",
     "output_type": "error",
     "traceback": [
      "\u001b[0;31m---------------------------------------------------------------------------\u001b[0m",
      "\u001b[0;31mNameError\u001b[0m                                 Traceback (most recent call last)",
      "Cell \u001b[0;32mIn[11], line 26\u001b[0m\n\u001b[1;32m     24\u001b[0m \u001b[38;5;66;03m#upgma to tree\u001b[39;00m\n\u001b[1;32m     25\u001b[0m upgma \u001b[38;5;241m=\u001b[39m lib\u001b[38;5;241m.\u001b[39mupgma(distmat,headers)\n\u001b[0;32m---> 26\u001b[0m newick \u001b[38;5;241m=\u001b[39m \u001b[43mupgma\u001b[49m\u001b[38;5;241;43m.\u001b[39;49m\u001b[43mget_newick\u001b[49m\u001b[43m(\u001b[49m\u001b[43mdistmat\u001b[49m\u001b[43m,\u001b[49m\u001b[43mheaders\u001b[49m\u001b[43m)\u001b[49m\n\u001b[1;32m     28\u001b[0m \u001b[38;5;66;03m#trustworthiness\u001b[39;00m\n\u001b[1;32m     29\u001b[0m _distmat  \u001b[38;5;241m=\u001b[39m cophenetic_distmat(newick, names\u001b[38;5;241m=\u001b[39mheaders)\n",
      "File \u001b[0;32m~/library.py:315\u001b[0m, in \u001b[0;36mupgma.get_newick\u001b[0;34m(self, distmat, names)\u001b[0m\n\u001b[1;32m    313\u001b[0m Z \u001b[38;5;241m=\u001b[39m hierarchy\u001b[38;5;241m.\u001b[39mlinkage(D, method\u001b[38;5;241m=\u001b[39m\u001b[38;5;124m'\u001b[39m\u001b[38;5;124maverage\u001b[39m\u001b[38;5;124m'\u001b[39m, optimal_ordering\u001b[38;5;241m=\u001b[39m\u001b[38;5;28;01mFalse\u001b[39;00m)\n\u001b[1;32m    314\u001b[0m tree \u001b[38;5;241m=\u001b[39m hierarchy\u001b[38;5;241m.\u001b[39mto_tree(Z, \u001b[38;5;28;01mFalse\u001b[39;00m)\n\u001b[0;32m--> 315\u001b[0m \u001b[38;5;28mself\u001b[39m\u001b[38;5;241m.\u001b[39mnewick \u001b[38;5;241m=\u001b[39m \u001b[43mto_newick\u001b[49m(tree, \u001b[38;5;124m\"\u001b[39m\u001b[38;5;124m\"\u001b[39m, tree\u001b[38;5;241m.\u001b[39mdist, names)\n\u001b[1;32m    316\u001b[0m \u001b[38;5;28;01mreturn\u001b[39;00m  \u001b[38;5;28mself\u001b[39m\u001b[38;5;241m.\u001b[39mnewick\n",
      "\u001b[0;31mNameError\u001b[0m: name 'to_newick' is not defined"
     ]
    }
   ],
   "source": [
    "#write output flag\n",
    "writer = False\n",
    "from sklearn.metrics import silhouette_score\n",
    "from itertools import groupby\n",
    "import string\n",
    "\n",
    "#epochs\n",
    "epoch = 100\n",
    "\n",
    "#cosine, euclidean, manhattan, ts_ss, jensenshannon\n",
    "metric_list = [\"cosine\",\"euclidean\", \"manhattan\", \"ts_ss\"]\n",
    "\n",
    "for metric in metric_list:\n",
    "    out_newick = \"/Users/adel.schmucklermann/Desktop/FoPra/KLK/KLK_esm2_decoder_\"+str(epoch)+\"_\"+metric+\".newick\"\n",
    "\n",
    "    embedding_out = encode.detach() #torch.stack(encode).detach() \n",
    "    print(embedding_out)\n",
    "    \n",
    "    #distance metric\n",
    "    dist = lib.distance_metric(embedding_out)\n",
    "    distmat = dist.get_metric(embedding_out, metric)\n",
    "    print(distmat)\n",
    "    \n",
    "    #upgma to tree\n",
    "    upgma = lib.upgma(distmat,headers)\n",
    "    newick = upgma.get_newick(distmat,headers)\n",
    "   \n",
    "    #trustworthiness\n",
    "    _distmat  = cophenetic_distmat(newick, names=headers)\n",
    "    _trustworthiness = trustworthiness(distmat, _distmat, n_neighbors=10, metric='precomputed')\n",
    "    print( _trustworthiness)\n",
    "    \n",
    "    \n",
    "    if writer:\n",
    "        with open(out_newick, 'w') as w:\n",
    "            w.write(newick)\n",
    "            w.close()"
   ]
  },
  {
   "cell_type": "markdown",
   "id": "899a4564",
   "metadata": {},
   "source": [
    "# Plot Loss"
   ]
  },
  {
   "cell_type": "code",
   "execution_count": null,
   "id": "64817e3b",
   "metadata": {},
   "outputs": [],
   "source": []
  }
 ],
 "metadata": {
  "kernelspec": {
   "display_name": "chumby",
   "language": "python",
   "name": "chumby"
  },
  "language_info": {
   "codemirror_mode": {
    "name": "ipython",
    "version": 3
   },
   "file_extension": ".py",
   "mimetype": "text/x-python",
   "name": "python",
   "nbconvert_exporter": "python",
   "pygments_lexer": "ipython3",
   "version": "3.8.16"
  }
 },
 "nbformat": 4,
 "nbformat_minor": 5
}
