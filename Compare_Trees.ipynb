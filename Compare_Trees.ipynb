{
 "cells": [
  {
   "cell_type": "code",
   "execution_count": 1,
   "id": "c3f2c46d",
   "metadata": {},
   "outputs": [],
   "source": [
    "#imports\n",
    "from ete3 import Tree\n",
    "from Bio import Phylo"
   ]
  },
  {
   "cell_type": "code",
   "execution_count": 4,
   "id": "b9cfe4b5",
   "metadata": {},
   "outputs": [],
   "source": [
    "#loading\n",
    "\n",
    "Tree1 = Tree(\"tree_reference.newick\")\n",
    "Tree2 = Tree(\"tree_reference.newick\")\n",
    "\n",
    "#convert nexus to newick\n",
    "# Load the Newick file\n",
    "tree = Phylo.read(Tree1, \"newick\")\n",
    "\n",
    "# Write the tree as a Nexus file\n",
    "nexus_file = \"test.nexus\"\n",
    "Phylo.write(tree, nexus_file, \"nexus\")\n"
   ]
  },
  {
   "cell_type": "code",
   "execution_count": null,
   "id": "d0142ae9",
   "metadata": {},
   "outputs": [],
   "source": [
    "#calculate scores\n",
    "\n",
    "\n",
    "\n",
    "\n"
   ]
  },
  {
   "cell_type": "code",
   "execution_count": null,
   "id": "a710b682",
   "metadata": {},
   "outputs": [],
   "source": []
  },
  {
   "cell_type": "code",
   "execution_count": null,
   "id": "1b8cc202",
   "metadata": {},
   "outputs": [],
   "source": []
  },
  {
   "cell_type": "code",
   "execution_count": null,
   "id": "2f98b026",
   "metadata": {},
   "outputs": [],
   "source": []
  }
 ],
 "metadata": {
  "kernelspec": {
   "display_name": "FP_Lightning",
   "language": "python",
   "name": "fp_lightning"
  },
  "language_info": {
   "codemirror_mode": {
    "name": "ipython",
    "version": 3
   },
   "file_extension": ".py",
   "mimetype": "text/x-python",
   "name": "python",
   "nbconvert_exporter": "python",
   "pygments_lexer": "ipython3",
   "version": "3.8.5"
  }
 },
 "nbformat": 4,
 "nbformat_minor": 5
}
